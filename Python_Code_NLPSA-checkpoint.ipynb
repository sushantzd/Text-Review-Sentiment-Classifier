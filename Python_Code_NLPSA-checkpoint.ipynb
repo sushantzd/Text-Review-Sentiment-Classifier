{
 "cells": [
  {
   "cell_type": "markdown",
   "metadata": {},
   "source": [
    "<a id='1.1'></a>\n",
    "### 1.1 Import modulus"
   ]
  },
  {
   "cell_type": "code",
   "execution_count": 5,
   "metadata": {},
   "outputs": [],
   "source": [
    "\n",
    "\n",
    "import my_utils\n",
    "\n",
    "import html\n",
    "import time\n",
    "import functools\n",
    "import pandas as pd\n",
    "import numpy as np\n",
    "import nltk\n",
    "from nltk.corpus import stopwords as sw\n",
    "import string\n",
    "import matplotlib.pyplot as plt\n",
    "%matplotlib inline\n",
    "\n",
    "from sklearn.feature_extraction.text import CountVectorizer, TfidfTransformer, TfidfVectorizer\n",
    "from sklearn.model_selection import train_test_split\n",
    "from sklearn import metrics\n",
    "from sklearn.naive_bayes import MultinomialNB\n",
    "from sklearn.svm import LinearSVC\n",
    "\n",
    "from sklearn.linear_model import LogisticRegression\n",
    "import pickle\n",
    "import json\n",
    "import random"
   ]
  },
  {
   "cell_type": "code",
   "execution_count": 6,
   "metadata": {},
   "outputs": [
    {
     "name": "stdout",
     "output_type": "stream",
     "text": [
      "Dataset size after reduction: (665331, 12)\n",
      "   overall  verified   reviewTime      reviewerID        asin  \\\n",
      "0      4.0      True   07 3, 2014  A2LSKD2H9U8N0J  B000FA5KK0   \n",
      "1      5.0      True  05 26, 2014  A2QP13XTJND1QS  B000FA5KK0   \n",
      "2      5.0      True   03 3, 2016   A1E0MODSRYP7O  B000FA5KK0   \n",
      "3      5.0      True  09 10, 2015   AYUTCGVSM1H7T  B000FA5KK0   \n",
      "4      5.0      True  06 14, 2015   A9DXGM6YGV14D  B000FA5KK0   \n",
      "\n",
      "                            style         reviewerName  \\\n",
      "0  {'Format:': ' Kindle Edition'}  sandra sue marsolek   \n",
      "1  {'Format:': ' Kindle Edition'}                  Tpl   \n",
      "2  {'Format:': ' Kindle Edition'}                 Jeff   \n",
      "3  {'Format:': ' Kindle Edition'}    DEHS - EddyRapcon   \n",
      "4  {'Format:': ' Kindle Edition'}      Linda DeWachter   \n",
      "\n",
      "                                          reviewText            summary  \\\n",
      "0  pretty good story, a little exaggerated, but I...  pretty good story   \n",
      "1  If you've read other max brand westerns, you k...   A very good book   \n",
      "2                      As usual for him, a good book             a good   \n",
      "3  MB is one of the original western writers and ...          A Western   \n",
      "4                                         great book         Five Stars   \n",
      "\n",
      "   unixReviewTime vote image  \n",
      "0      1404345600  NaN   NaN  \n",
      "1      1401062400  NaN   NaN  \n",
      "2      1456963200  NaN   NaN  \n",
      "3      1441843200    2   NaN  \n",
      "4      1434240000  NaN   NaN  \n"
     ]
    }
   ],
   "source": [
    "\n",
    "keep_fraction = 0.3  \n",
    "\n",
    "data_list = []  \n",
    "with open(\"Kindle_Store_5.json\", \"r\", encoding=\"utf-8\") as file:\n",
    "    for line in file:\n",
    "        if random.random() < keep_fraction:  \n",
    "            data_list.append(json.loads(line))\n",
    "\n",
    "data = pd.DataFrame(data_list)\n",
    "\n",
    "# Check output\n",
    "print(f\"Dataset size after reduction: {data.shape}\")\n",
    "print(data.head())"
   ]
  },
  {
   "cell_type": "code",
   "execution_count": 7,
   "metadata": {
    "scrolled": true
   },
   "outputs": [
    {
     "name": "stdout",
     "output_type": "stream",
     "text": [
      "Dataset size after reduction: (665331, 12)\n",
      "   overall  verified   reviewTime      reviewerID        asin  \\\n",
      "0      4.0      True   07 3, 2014  A2LSKD2H9U8N0J  B000FA5KK0   \n",
      "1      5.0      True  05 26, 2014  A2QP13XTJND1QS  B000FA5KK0   \n",
      "2      5.0      True   03 3, 2016   A1E0MODSRYP7O  B000FA5KK0   \n",
      "3      5.0      True  09 10, 2015   AYUTCGVSM1H7T  B000FA5KK0   \n",
      "4      5.0      True  06 14, 2015   A9DXGM6YGV14D  B000FA5KK0   \n",
      "\n",
      "                            style         reviewerName  \\\n",
      "0  {'Format:': ' Kindle Edition'}  sandra sue marsolek   \n",
      "1  {'Format:': ' Kindle Edition'}                  Tpl   \n",
      "2  {'Format:': ' Kindle Edition'}                 Jeff   \n",
      "3  {'Format:': ' Kindle Edition'}    DEHS - EddyRapcon   \n",
      "4  {'Format:': ' Kindle Edition'}      Linda DeWachter   \n",
      "\n",
      "                                          reviewText            summary  \\\n",
      "0  pretty good story, a little exaggerated, but I...  pretty good story   \n",
      "1  If you've read other max brand westerns, you k...   A very good book   \n",
      "2                      As usual for him, a good book             a good   \n",
      "3  MB is one of the original western writers and ...          A Western   \n",
      "4                                         great book         Five Stars   \n",
      "\n",
      "   unixReviewTime vote image  \n",
      "0      1404345600  NaN   NaN  \n",
      "1      1401062400  NaN   NaN  \n",
      "2      1456963200  NaN   NaN  \n",
      "3      1441843200    2   NaN  \n",
      "4      1434240000  NaN   NaN  \n"
     ]
    }
   ],
   "source": [
    "data.head()\n",
    "print(f\"Dataset size after reduction: {data.shape}\")\n",
    "print(data.head())  "
   ]
  },
  {
   "cell_type": "markdown",
   "metadata": {},
   "source": [
    "<a id='1.3'></a>\n",
    "### 1.3 Generate the sentiment label"
   ]
  },
  {
   "cell_type": "markdown",
   "metadata": {},
   "source": [
    "Reviews with overall rating of 1, 2, or 3 are labeled as negative (\"neg\"), and reviews with overall rating of 4 or 5 are labeled as positive (\"pos\"). \n",
    "\n",
    "* Make a new column named 'pos_neg':\n",
    "    + pos_neg = 'neg' when overall=1, 2 ,or 3,\n",
    "    + pos_neg = 'pos' when overall=4 or 5"
   ]
  },
  {
   "cell_type": "code",
   "execution_count": 10,
   "metadata": {},
   "outputs": [
    {
     "data": {
      "text/plain": [
       "array(['overall', 'verified', 'reviewTime', 'reviewerID', 'asin', 'style',\n",
       "       'reviewerName', 'reviewText', 'summary', 'unixReviewTime', 'vote',\n",
       "       'image'], dtype=object)"
      ]
     },
     "execution_count": 10,
     "metadata": {},
     "output_type": "execute_result"
    }
   ],
   "source": [
    "data.columns.values"
   ]
  },
  {
   "cell_type": "code",
   "execution_count": 11,
   "metadata": {},
   "outputs": [],
   "source": [
    "# Make a new column named 'pos_neg', which has value 'neg' if the overall rating is 1, 2 ,or 3, \n",
    "# and has value 'pos' of the overall rating is 4 or 5. \n",
    "data.loc[data.overall.isin([1,2,3]), 'pos_neg'] = 'neg'\n",
    "data.loc[data.overall.isin([4,5]), 'pos_neg'] = 'pos'"
   ]
  },
  {
   "cell_type": "markdown",
   "metadata": {},
   "source": [
    "<a id='1.4'></a>\n",
    "### 1.4 Select the required columns"
   ]
  },
  {
   "cell_type": "markdown",
   "metadata": {},
   "source": [
    "* Choose only the columns 'pop_neg' and 'reviewText'"
   ]
  },
  {
   "cell_type": "code",
   "execution_count": 14,
   "metadata": {},
   "outputs": [],
   "source": [
    "# now we choose only the columns 'pop_neg' and 'reviewText'\n",
    "df = data[['pos_neg', 'reviewText']]"
   ]
  },
  {
   "cell_type": "code",
   "execution_count": 15,
   "metadata": {},
   "outputs": [
    {
     "data": {
      "text/html": [
       "<div>\n",
       "<style scoped>\n",
       "    .dataframe tbody tr th:only-of-type {\n",
       "        vertical-align: middle;\n",
       "    }\n",
       "\n",
       "    .dataframe tbody tr th {\n",
       "        vertical-align: top;\n",
       "    }\n",
       "\n",
       "    .dataframe thead th {\n",
       "        text-align: right;\n",
       "    }\n",
       "</style>\n",
       "<table border=\"1\" class=\"dataframe\">\n",
       "  <thead>\n",
       "    <tr style=\"text-align: right;\">\n",
       "      <th></th>\n",
       "      <th>pos_neg</th>\n",
       "      <th>reviewText</th>\n",
       "    </tr>\n",
       "  </thead>\n",
       "  <tbody>\n",
       "    <tr>\n",
       "      <th>0</th>\n",
       "      <td>pos</td>\n",
       "      <td>pretty good story, a little exaggerated, but I...</td>\n",
       "    </tr>\n",
       "    <tr>\n",
       "      <th>1</th>\n",
       "      <td>pos</td>\n",
       "      <td>If you've read other max brand westerns, you k...</td>\n",
       "    </tr>\n",
       "    <tr>\n",
       "      <th>2</th>\n",
       "      <td>pos</td>\n",
       "      <td>As usual for him, a good book</td>\n",
       "    </tr>\n",
       "    <tr>\n",
       "      <th>3</th>\n",
       "      <td>pos</td>\n",
       "      <td>MB is one of the original western writers and ...</td>\n",
       "    </tr>\n",
       "    <tr>\n",
       "      <th>4</th>\n",
       "      <td>pos</td>\n",
       "      <td>great book</td>\n",
       "    </tr>\n",
       "  </tbody>\n",
       "</table>\n",
       "</div>"
      ],
      "text/plain": [
       "  pos_neg                                         reviewText\n",
       "0     pos  pretty good story, a little exaggerated, but I...\n",
       "1     pos  If you've read other max brand westerns, you k...\n",
       "2     pos                      As usual for him, a good book\n",
       "3     pos  MB is one of the original western writers and ...\n",
       "4     pos                                         great book"
      ]
     },
     "execution_count": 15,
     "metadata": {},
     "output_type": "execute_result"
    }
   ],
   "source": [
    "df.head()"
   ]
  },
  {
   "cell_type": "markdown",
   "metadata": {},
   "source": [
    "<a id='2'></a>\n",
    "## 2. Data Preparation"
   ]
  },
  {
   "cell_type": "markdown",
   "metadata": {},
   "source": [
    "<a id='2.1'></a>\n",
    "### 2.1 Under-sampling"
   ]
  },
  {
   "cell_type": "markdown",
   "metadata": {},
   "source": [
    "Since the dataset is imbalanced that more than 84% of the reviews are positive, we undersample the positive reviews (the majority class) to have exactly the same number of reviews as in the negative ones."
   ]
  },
  {
   "cell_type": "code",
   "execution_count": 19,
   "metadata": {},
   "outputs": [
    {
     "data": {
      "text/plain": [
       "pos_neg         0\n",
       "reviewText    109\n",
       "dtype: int64"
      ]
     },
     "execution_count": 19,
     "metadata": {},
     "output_type": "execute_result"
    }
   ],
   "source": [
    "# we will Check whethere there is any missing data\n",
    "df.isnull().sum()  "
   ]
  },
  {
   "cell_type": "code",
   "execution_count": 20,
   "metadata": {},
   "outputs": [
    {
     "data": {
      "text/plain": [
       "(665331, 13)"
      ]
     },
     "execution_count": 20,
     "metadata": {},
     "output_type": "execute_result"
    }
   ],
   "source": [
    "data.shape"
   ]
  },
  {
   "cell_type": "code",
   "execution_count": 21,
   "metadata": {
    "scrolled": true
   },
   "outputs": [
    {
     "data": {
      "text/plain": [
       "pos    571636\n",
       "neg     93695\n",
       "Name: pos_neg, dtype: int64"
      ]
     },
     "execution_count": 21,
     "metadata": {},
     "output_type": "execute_result"
    }
   ],
   "source": [
    "# we will Check the distribution of the positive and negative reviews\n",
    "df.pos_neg.value_counts()"
   ]
  },
  {
   "cell_type": "code",
   "execution_count": 22,
   "metadata": {},
   "outputs": [],
   "source": [
    "#we will Sample positive reveiws to get a balanced dataset\n",
    "neg = df.loc[df.pos_neg=='neg']\n",
    "pos = df.loc[df.pos_neg=='pos'].sample(n=df.pos_neg.value_counts()['neg'], random_state=42)"
   ]
  },
  {
   "cell_type": "code",
   "execution_count": 23,
   "metadata": {
    "scrolled": true
   },
   "outputs": [
    {
     "name": "stdout",
     "output_type": "stream",
     "text": [
      "<class 'pandas.core.frame.DataFrame'>\n",
      "pos: 93695 , neg: 93695\n"
     ]
    }
   ],
   "source": [
    "print(type(pos))\n",
    "print(\"pos:\", len(pos), \", neg:\", len(neg))"
   ]
  },
  {
   "cell_type": "markdown",
   "metadata": {},
   "source": [
    "<a id='2.2'></a>\n",
    "### 2.2 Data preprocessing"
   ]
  },
  {
   "cell_type": "code",
   "execution_count": 26,
   "metadata": {},
   "outputs": [],
   "source": [
    "lemmatizer = nltk.WordNetLemmatizer()\n",
    "stopwords = sw.words('english')\n",
    "stopwords = stopwords + ['not_' + w for w in stopwords]\n",
    "\n",
    "# transform punctuation to blanks\n",
    "trans_punct = str.maketrans(string.punctuation,' '*len(string.punctuation)) \n",
    "\n",
    "# pad punctuation with blanks\n",
    "pad_punct = str.maketrans({key: \" {0} \".format(key) for key in string.punctuation}) \n",
    "# remove \"_\" from string.punctuation\n",
    "invalidChars = str(string.punctuation.replace(\"_\", \"\"))  "
   ]
  },
  {
   "cell_type": "code",
   "execution_count": 27,
   "metadata": {},
   "outputs": [],
   "source": [
    "def preprocessing(line, ngram=1, neg_handling=True, remove_stop=False):\n",
    "    \"\"\"\n",
    "    Preprocessing the review texts\n",
    "    @params:\n",
    "        line                       - Required: the input text (Str)\n",
    "        ngram                  - Optional: number n in the n-gram model(Int, 1, 2, or 3)\n",
    "        neg_handling       - Optional: whether to perform negation handling (Boolean)\n",
    "        remove_stop        -Optional: whether to remove the stop words (Boolean)\n",
    "    \"\"\"\n",
    "        \n",
    "    line = html.unescape(str(line))\n",
    "    line = str(line).replace(\"can't\", \"can not\")\n",
    "    line = str(line).replace(\"n't\", \" not\")\n",
    "    \n",
    "    if neg_handling:\n",
    "        line = str(line).translate(pad_punct)  \n",
    "        line = nltk.word_tokenize(line.lower()) # Word normalization and tokenization\n",
    "        tokens = []\n",
    "        negated = False\n",
    "        for t in line:\n",
    "            if t in ['not', 'no']:\n",
    "                negated = not negated\n",
    "            elif t in string.punctuation or not t.isalpha():\n",
    "                negated = False\n",
    "            else:\n",
    "                tokens.append('not_' + t if negated else t)  # add \"not_\" prefix to words behind \"not\", or \"no\"     \n",
    "    else:\n",
    "        line = str(line).translate(trans_punct)  # If not performing negation handling, remove punctuations\n",
    "        line = nltk.word_tokenize(line.lower()) # Word normalization and tokenization\n",
    "        tokens = line\n",
    "    \n",
    "    if ngram==2:\n",
    "        bi_tokens = list(nltk.bigrams(line))\n",
    "        bi_tokens = list(map('_'.join, bi_tokens))\n",
    "        bi_tokens = [i for i in bi_tokens if all(j not in invalidChars for j in i)]\n",
    "        tokens = tokens + bi_tokens\n",
    "\n",
    "    if ngram==3:\n",
    "        bi_tokens = list(nltk.bigrams(line))\n",
    "        bi_tokens = list(map('_'.join, bi_tokens))\n",
    "        bi_tokens = [i for i in bi_tokens if all(j not in invalidChars for j in i)]\n",
    "        tri_tokens = list(nltk.trigrams(line))\n",
    "        tri_tokens = list(map('_'.join, tri_tokens))\n",
    "        tri_tokens = [i for i in tri_tokens if all(j not in invalidChars for j in i)]\n",
    "        tokens = tokens + bi_tokens + tri_tokens    \n",
    "     \n",
    "    if remove_stop:\n",
    "        line = [lemmatizer.lemmatize(t) for t in tokens if t not in stopwords]\n",
    "    else:\n",
    "        line = [lemmatizer.lemmatize(t) for t in tokens] \n",
    "    \n",
    "    return ' '.join(line)"
   ]
  },
  {
   "cell_type": "markdown",
   "metadata": {},
   "source": [
    "#### 2.2.2 An example"
   ]
  },
  {
   "cell_type": "code",
   "execution_count": 29,
   "metadata": {},
   "outputs": [],
   "source": [
    "line = \"I don't think this book has any decent information!!! It is full of typos and factual errors that I can't ignore.\""
   ]
  },
  {
   "cell_type": "code",
   "execution_count": 30,
   "metadata": {},
   "outputs": [
    {
     "name": "stderr",
     "output_type": "stream",
     "text": [
      "[nltk_data] Downloading package wordnet to /Users/sushant/nltk_data...\n",
      "[nltk_data]   Package wordnet is already up-to-date!\n",
      "[nltk_data] Downloading package omw-1.4 to /Users/sushant/nltk_data...\n",
      "[nltk_data]   Package omw-1.4 is already up-to-date!\n"
     ]
    },
    {
     "data": {
      "text/plain": [
       "True"
      ]
     },
     "execution_count": 30,
     "metadata": {},
     "output_type": "execute_result"
    }
   ],
   "source": [
    "import nltk\n",
    "nltk.download('wordnet')\n",
    "nltk.download('omw-1.4')\n"
   ]
  },
  {
   "cell_type": "code",
   "execution_count": 31,
   "metadata": {},
   "outputs": [
    {
     "data": {
      "text/plain": [
       "'i do not think this book ha any decent information it is full of typo and factual error that i can not ignore'"
      ]
     },
     "execution_count": 31,
     "metadata": {},
     "output_type": "execute_result"
    }
   ],
   "source": [
    "preprocessing(line, ngram=1, neg_handling=False, remove_stop=False)"
   ]
  },
  {
   "cell_type": "code",
   "execution_count": 32,
   "metadata": {},
   "outputs": [
    {
     "data": {
      "text/plain": [
       "'think book decent information full typo factual error ignore'"
      ]
     },
     "execution_count": 32,
     "metadata": {},
     "output_type": "execute_result"
    }
   ],
   "source": [
    "preprocessing(line, ngram=1, neg_handling=False, remove_stop=True)"
   ]
  },
  {
   "cell_type": "code",
   "execution_count": 33,
   "metadata": {},
   "outputs": [
    {
     "data": {
      "text/plain": [
       "'i do not_think not_this not_book not_has not_any not_decent not_information it is full of typo and factual error that i can not_ignore'"
      ]
     },
     "execution_count": 33,
     "metadata": {},
     "output_type": "execute_result"
    }
   ],
   "source": [
    "preprocessing(line, ngram=1, neg_handling=True, remove_stop=False)"
   ]
  },
  {
   "cell_type": "code",
   "execution_count": 34,
   "metadata": {},
   "outputs": [
    {
     "data": {
      "text/plain": [
       "'i do not_think not_this not_book not_has not_any not_decent not_information it is full of typo and factual error that i can not_ignore i_do do_not not_think think_this this_book book_has has_any any_decent decent_information it_is is_full full_of of_typos typos_and and_factual factual_errors errors_that that_i i_can can_not not_ignore i_do_not do_not_think not_think_this think_this_book this_book_has book_has_any has_any_decent any_decent_information it_is_full is_full_of full_of_typos of_typos_and typos_and_factual and_factual_errors factual_errors_that errors_that_i that_i_can i_can_not can_not_ignore'"
      ]
     },
     "execution_count": 34,
     "metadata": {},
     "output_type": "execute_result"
    }
   ],
   "source": [
    "preprocessing(line, ngram=3, neg_handling=True, remove_stop=False)"
   ]
  },
  {
   "cell_type": "markdown",
   "metadata": {},
   "source": [
    "#### 2.2.3 Preproessing the data"
   ]
  },
  {
   "cell_type": "markdown",
   "metadata": {},
   "source": [
    "* Perform data preprocessing with negation handling, tri-gram modeling, without removing the stop words"
   ]
  },
  {
   "cell_type": "code",
   "execution_count": 37,
   "metadata": {},
   "outputs": [
    {
     "name": "stdout",
     "output_type": "stream",
     "text": [
      "Preprocessing pos data:  |==================================================| 100% \n"
     ]
    }
   ],
   "source": [
    "# Preprocessing the positive reveiws\n",
    "pos_data = []\n",
    "n_pos = len(pos)\n",
    "for i, p in enumerate(pos['reviewText']):\n",
    "    pos_data.append(preprocessing(p, ngram=3))\n",
    "    my_utils.print_progress(bar_length=50, decimals=0, iteration=i+1, total=n_pos, prefix='Preprocessing pos data: ')"
   ]
  },
  {
   "cell_type": "code",
   "execution_count": 38,
   "metadata": {},
   "outputs": [
    {
     "name": "stdout",
     "output_type": "stream",
     "text": [
      "Preprocessing neg data:  |=======>..........................................| 16% "
     ]
    },
    {
     "name": "stderr",
     "output_type": "stream",
     "text": [
      "IOPub message rate exceeded.\n",
      "The Jupyter server will temporarily stop sending output\n",
      "to the client in order to avoid crashing it.\n",
      "To change this limit, set the config variable\n",
      "`--ServerApp.iopub_msg_rate_limit`.\n",
      "\n",
      "Current values:\n",
      "ServerApp.iopub_msg_rate_limit=1000.0 (msgs/sec)\n",
      "ServerApp.rate_limit_window=3.0 (secs)\n",
      "\n"
     ]
    },
    {
     "name": "stdout",
     "output_type": "stream",
     "text": [
      "Preprocessing neg data:  |==================================================| 100% \n"
     ]
    }
   ],
   "source": [
    "# Preprocessing the negative reveiws\n",
    "neg_data = []\n",
    "n_neg = len(neg)\n",
    "for i, n in enumerate(neg['reviewText']):\n",
    "    neg_data.append(preprocessing(n, ngram=3))\n",
    "    my_utils.print_progress(bar_length=50, decimals=0, iteration=i+1, total=n_neg, prefix='Preprocessing neg data: ')"
   ]
  },
  {
   "cell_type": "code",
   "execution_count": 39,
   "metadata": {},
   "outputs": [],
   "source": [
    "# Combiningg the preprocessed data\n",
    "data = pos_data + neg_data\n",
    "labels = np.concatenate((pos['pos_neg'].values, neg['pos_neg'].values))"
   ]
  },
  {
   "cell_type": "markdown",
   "metadata": {},
   "source": [
    "<a id='2.3'></a>\n",
    "### 2.3 Split dataset to training, validation, and test sets"
   ]
  },
  {
   "cell_type": "markdown",
   "metadata": {},
   "source": [
    "We split the whole dataset randomly to the training set, validation set, and testing set by the proportion of 60%, 20%, and 20% respectively."
   ]
  },
  {
   "cell_type": "code",
   "execution_count": 42,
   "metadata": {},
   "outputs": [
    {
     "name": "stdout",
     "output_type": "stream",
     "text": [
      "training size =  112434 validation size =  37478 testing size =  37478\n"
     ]
    }
   ],
   "source": [
    "# split the dataset to training, validation, test sets by 60-20-20\n",
    "train_data, rest_data, train_labels, rest_labels = train_test_split(data, labels, test_size=0.4, \n",
    "                                                                    stratify=labels, random_state=1234)\n",
    "valid_data, test_data, valid_labels, test_labels = train_test_split(rest_data, rest_labels, test_size=0.5, \n",
    "                                                                    stratify=rest_labels, random_state=1234)\n",
    "print(\"training size = \", len(train_data), \"validation size = \", len(valid_data), \"testing size = \", len(test_data))"
   ]
  },
  {
   "cell_type": "markdown",
   "metadata": {},
   "source": [
    "<a id='3'></a>\n",
    "## 3. Feature Extraction"
   ]
  },
  {
   "cell_type": "markdown",
   "metadata": {},
   "source": [
    "<a id='3.1'></a>\n",
    "### 3.1 Compute the frequency of words"
   ]
  },
  {
   "cell_type": "code",
   "execution_count": 45,
   "metadata": {},
   "outputs": [],
   "source": [
    "# Push all tokens and compute the frequency of words\n",
    "tokens = [word for line in train_data for word in nltk.word_tokenize(line)]\n",
    "word_features = nltk.FreqDist(tokens)"
   ]
  },
  {
   "cell_type": "code",
   "execution_count": 46,
   "metadata": {},
   "outputs": [
    {
     "name": "stdout",
     "output_type": "stream",
     "text": [
      "<FreqDist with 4959023 samples and 29083962 outcomes>\n"
     ]
    }
   ],
   "source": [
    "print(word_features)"
   ]
  },
  {
   "cell_type": "code",
   "execution_count": 47,
   "metadata": {},
   "outputs": [
    {
     "data": {
      "text/plain": [
       "[('the', 468328),\n",
       " ('a', 327416),\n",
       " ('and', 323035),\n",
       " ('i', 292687),\n",
       " ('to', 260902),\n",
       " ('of', 190955),\n",
       " ('it', 164852),\n",
       " ('is', 164750),\n",
       " ('this', 154256),\n",
       " ('wa', 144980)]"
      ]
     },
     "execution_count": 47,
     "metadata": {},
     "output_type": "execute_result"
    }
   ],
   "source": [
    "# Print the 10 most common words\n",
    "word_features.most_common(10)"
   ]
  },
  {
   "cell_type": "code",
   "execution_count": 48,
   "metadata": {},
   "outputs": [
    {
     "data": {
      "text/plain": [
       "1191157"
      ]
     },
     "execution_count": 48,
     "metadata": {},
     "output_type": "execute_result"
    }
   ],
   "source": [
    "# Remove features (words) which occur only once\n",
    "topwords = [fpair[0] for fpair in list(word_features.most_common(len(word_features))) if fpair[1]>=2] \n",
    "len(topwords) "
   ]
  },
  {
   "cell_type": "markdown",
   "metadata": {},
   "source": [
    "<a id='3.2'></a>\n",
    "### 3.2 Vectorizer and Tf–idf term weighting"
   ]
  },
  {
   "cell_type": "code",
   "execution_count": 50,
   "metadata": {},
   "outputs": [
    {
     "data": {
      "text/plain": [
       "<1x1191131 sparse matrix of type '<class 'numpy.float64'>'\n",
       "\twith 1191131 stored elements in Compressed Sparse Row format>"
      ]
     },
     "execution_count": 50,
     "metadata": {},
     "output_type": "execute_result"
    }
   ],
   "source": [
    "# Convert a collection of raw documents to a matrix of TF-IDF features.\n",
    "# Equivalent to CountVectorizer followed by TfidfTransformer.\n",
    "tf_vec = TfidfVectorizer()\n",
    "\n",
    "tf_vec.fit_transform([' '.join(topwords)])"
   ]
  },
  {
   "cell_type": "markdown",
   "metadata": {},
   "source": [
    "<a id='3.3'></a>\n",
    "### 3.3 Feature Extraction"
   ]
  },
  {
   "cell_type": "code",
   "execution_count": 52,
   "metadata": {},
   "outputs": [],
   "source": [
    "# Extract features from training set\n",
    "# Vocabulary is from topwords\n",
    "train_features = tf_vec.transform(train_data)"
   ]
  },
  {
   "cell_type": "code",
   "execution_count": 53,
   "metadata": {},
   "outputs": [
    {
     "data": {
      "text/plain": [
       "(112434, 1191131)"
      ]
     },
     "execution_count": 53,
     "metadata": {},
     "output_type": "execute_result"
    }
   ],
   "source": [
    "# Array[n_train_data * n_features]\n",
    "train_features.shape"
   ]
  },
  {
   "cell_type": "code",
   "execution_count": 54,
   "metadata": {},
   "outputs": [],
   "source": [
    "# Extract features from test set\n",
    "test_features = tf_vec.transform(test_data)"
   ]
  },
  {
   "cell_type": "code",
   "execution_count": 55,
   "metadata": {},
   "outputs": [
    {
     "data": {
      "text/plain": [
       "(37478, 1191131)"
      ]
     },
     "execution_count": 55,
     "metadata": {},
     "output_type": "execute_result"
    }
   ],
   "source": [
    "test_features.shape"
   ]
  },
  {
   "cell_type": "markdown",
   "metadata": {},
   "source": [
    "<a id='4'></a>\n",
    "## 4. Basic Modeling"
   ]
  },
  {
   "cell_type": "markdown",
   "metadata": {},
   "source": [
    "<a id='4.1'></a>\n",
    "### 4.1 Multinomial Naive Bayes classification model (MultinomialNB)"
   ]
  },
  {
   "cell_type": "code",
   "execution_count": 58,
   "metadata": {},
   "outputs": [
    {
     "data": {
      "text/html": [
       "<style>#sk-container-id-1 {\n",
       "  /* Definition of color scheme common for light and dark mode */\n",
       "  --sklearn-color-text: #000;\n",
       "  --sklearn-color-text-muted: #666;\n",
       "  --sklearn-color-line: gray;\n",
       "  /* Definition of color scheme for unfitted estimators */\n",
       "  --sklearn-color-unfitted-level-0: #fff5e6;\n",
       "  --sklearn-color-unfitted-level-1: #f6e4d2;\n",
       "  --sklearn-color-unfitted-level-2: #ffe0b3;\n",
       "  --sklearn-color-unfitted-level-3: chocolate;\n",
       "  /* Definition of color scheme for fitted estimators */\n",
       "  --sklearn-color-fitted-level-0: #f0f8ff;\n",
       "  --sklearn-color-fitted-level-1: #d4ebff;\n",
       "  --sklearn-color-fitted-level-2: #b3dbfd;\n",
       "  --sklearn-color-fitted-level-3: cornflowerblue;\n",
       "\n",
       "  /* Specific color for light theme */\n",
       "  --sklearn-color-text-on-default-background: var(--sg-text-color, var(--theme-code-foreground, var(--jp-content-font-color1, black)));\n",
       "  --sklearn-color-background: var(--sg-background-color, var(--theme-background, var(--jp-layout-color0, white)));\n",
       "  --sklearn-color-border-box: var(--sg-text-color, var(--theme-code-foreground, var(--jp-content-font-color1, black)));\n",
       "  --sklearn-color-icon: #696969;\n",
       "\n",
       "  @media (prefers-color-scheme: dark) {\n",
       "    /* Redefinition of color scheme for dark theme */\n",
       "    --sklearn-color-text-on-default-background: var(--sg-text-color, var(--theme-code-foreground, var(--jp-content-font-color1, white)));\n",
       "    --sklearn-color-background: var(--sg-background-color, var(--theme-background, var(--jp-layout-color0, #111)));\n",
       "    --sklearn-color-border-box: var(--sg-text-color, var(--theme-code-foreground, var(--jp-content-font-color1, white)));\n",
       "    --sklearn-color-icon: #878787;\n",
       "  }\n",
       "}\n",
       "\n",
       "#sk-container-id-1 {\n",
       "  color: var(--sklearn-color-text);\n",
       "}\n",
       "\n",
       "#sk-container-id-1 pre {\n",
       "  padding: 0;\n",
       "}\n",
       "\n",
       "#sk-container-id-1 input.sk-hidden--visually {\n",
       "  border: 0;\n",
       "  clip: rect(1px 1px 1px 1px);\n",
       "  clip: rect(1px, 1px, 1px, 1px);\n",
       "  height: 1px;\n",
       "  margin: -1px;\n",
       "  overflow: hidden;\n",
       "  padding: 0;\n",
       "  position: absolute;\n",
       "  width: 1px;\n",
       "}\n",
       "\n",
       "#sk-container-id-1 div.sk-dashed-wrapped {\n",
       "  border: 1px dashed var(--sklearn-color-line);\n",
       "  margin: 0 0.4em 0.5em 0.4em;\n",
       "  box-sizing: border-box;\n",
       "  padding-bottom: 0.4em;\n",
       "  background-color: var(--sklearn-color-background);\n",
       "}\n",
       "\n",
       "#sk-container-id-1 div.sk-container {\n",
       "  /* jupyter's `normalize.less` sets `[hidden] { display: none; }`\n",
       "     but bootstrap.min.css set `[hidden] { display: none !important; }`\n",
       "     so we also need the `!important` here to be able to override the\n",
       "     default hidden behavior on the sphinx rendered scikit-learn.org.\n",
       "     See: https://github.com/scikit-learn/scikit-learn/issues/21755 */\n",
       "  display: inline-block !important;\n",
       "  position: relative;\n",
       "}\n",
       "\n",
       "#sk-container-id-1 div.sk-text-repr-fallback {\n",
       "  display: none;\n",
       "}\n",
       "\n",
       "div.sk-parallel-item,\n",
       "div.sk-serial,\n",
       "div.sk-item {\n",
       "  /* draw centered vertical line to link estimators */\n",
       "  background-image: linear-gradient(var(--sklearn-color-text-on-default-background), var(--sklearn-color-text-on-default-background));\n",
       "  background-size: 2px 100%;\n",
       "  background-repeat: no-repeat;\n",
       "  background-position: center center;\n",
       "}\n",
       "\n",
       "/* Parallel-specific style estimator block */\n",
       "\n",
       "#sk-container-id-1 div.sk-parallel-item::after {\n",
       "  content: \"\";\n",
       "  width: 100%;\n",
       "  border-bottom: 2px solid var(--sklearn-color-text-on-default-background);\n",
       "  flex-grow: 1;\n",
       "}\n",
       "\n",
       "#sk-container-id-1 div.sk-parallel {\n",
       "  display: flex;\n",
       "  align-items: stretch;\n",
       "  justify-content: center;\n",
       "  background-color: var(--sklearn-color-background);\n",
       "  position: relative;\n",
       "}\n",
       "\n",
       "#sk-container-id-1 div.sk-parallel-item {\n",
       "  display: flex;\n",
       "  flex-direction: column;\n",
       "}\n",
       "\n",
       "#sk-container-id-1 div.sk-parallel-item:first-child::after {\n",
       "  align-self: flex-end;\n",
       "  width: 50%;\n",
       "}\n",
       "\n",
       "#sk-container-id-1 div.sk-parallel-item:last-child::after {\n",
       "  align-self: flex-start;\n",
       "  width: 50%;\n",
       "}\n",
       "\n",
       "#sk-container-id-1 div.sk-parallel-item:only-child::after {\n",
       "  width: 0;\n",
       "}\n",
       "\n",
       "/* Serial-specific style estimator block */\n",
       "\n",
       "#sk-container-id-1 div.sk-serial {\n",
       "  display: flex;\n",
       "  flex-direction: column;\n",
       "  align-items: center;\n",
       "  background-color: var(--sklearn-color-background);\n",
       "  padding-right: 1em;\n",
       "  padding-left: 1em;\n",
       "}\n",
       "\n",
       "\n",
       "/* Toggleable style: style used for estimator/Pipeline/ColumnTransformer box that is\n",
       "clickable and can be expanded/collapsed.\n",
       "- Pipeline and ColumnTransformer use this feature and define the default style\n",
       "- Estimators will overwrite some part of the style using the `sk-estimator` class\n",
       "*/\n",
       "\n",
       "/* Pipeline and ColumnTransformer style (default) */\n",
       "\n",
       "#sk-container-id-1 div.sk-toggleable {\n",
       "  /* Default theme specific background. It is overwritten whether we have a\n",
       "  specific estimator or a Pipeline/ColumnTransformer */\n",
       "  background-color: var(--sklearn-color-background);\n",
       "}\n",
       "\n",
       "/* Toggleable label */\n",
       "#sk-container-id-1 label.sk-toggleable__label {\n",
       "  cursor: pointer;\n",
       "  display: flex;\n",
       "  width: 100%;\n",
       "  margin-bottom: 0;\n",
       "  padding: 0.5em;\n",
       "  box-sizing: border-box;\n",
       "  text-align: center;\n",
       "  align-items: start;\n",
       "  justify-content: space-between;\n",
       "  gap: 0.5em;\n",
       "}\n",
       "\n",
       "#sk-container-id-1 label.sk-toggleable__label .caption {\n",
       "  font-size: 0.6rem;\n",
       "  font-weight: lighter;\n",
       "  color: var(--sklearn-color-text-muted);\n",
       "}\n",
       "\n",
       "#sk-container-id-1 label.sk-toggleable__label-arrow:before {\n",
       "  /* Arrow on the left of the label */\n",
       "  content: \"▸\";\n",
       "  float: left;\n",
       "  margin-right: 0.25em;\n",
       "  color: var(--sklearn-color-icon);\n",
       "}\n",
       "\n",
       "#sk-container-id-1 label.sk-toggleable__label-arrow:hover:before {\n",
       "  color: var(--sklearn-color-text);\n",
       "}\n",
       "\n",
       "/* Toggleable content - dropdown */\n",
       "\n",
       "#sk-container-id-1 div.sk-toggleable__content {\n",
       "  max-height: 0;\n",
       "  max-width: 0;\n",
       "  overflow: hidden;\n",
       "  text-align: left;\n",
       "  /* unfitted */\n",
       "  background-color: var(--sklearn-color-unfitted-level-0);\n",
       "}\n",
       "\n",
       "#sk-container-id-1 div.sk-toggleable__content.fitted {\n",
       "  /* fitted */\n",
       "  background-color: var(--sklearn-color-fitted-level-0);\n",
       "}\n",
       "\n",
       "#sk-container-id-1 div.sk-toggleable__content pre {\n",
       "  margin: 0.2em;\n",
       "  border-radius: 0.25em;\n",
       "  color: var(--sklearn-color-text);\n",
       "  /* unfitted */\n",
       "  background-color: var(--sklearn-color-unfitted-level-0);\n",
       "}\n",
       "\n",
       "#sk-container-id-1 div.sk-toggleable__content.fitted pre {\n",
       "  /* unfitted */\n",
       "  background-color: var(--sklearn-color-fitted-level-0);\n",
       "}\n",
       "\n",
       "#sk-container-id-1 input.sk-toggleable__control:checked~div.sk-toggleable__content {\n",
       "  /* Expand drop-down */\n",
       "  max-height: 200px;\n",
       "  max-width: 100%;\n",
       "  overflow: auto;\n",
       "}\n",
       "\n",
       "#sk-container-id-1 input.sk-toggleable__control:checked~label.sk-toggleable__label-arrow:before {\n",
       "  content: \"▾\";\n",
       "}\n",
       "\n",
       "/* Pipeline/ColumnTransformer-specific style */\n",
       "\n",
       "#sk-container-id-1 div.sk-label input.sk-toggleable__control:checked~label.sk-toggleable__label {\n",
       "  color: var(--sklearn-color-text);\n",
       "  background-color: var(--sklearn-color-unfitted-level-2);\n",
       "}\n",
       "\n",
       "#sk-container-id-1 div.sk-label.fitted input.sk-toggleable__control:checked~label.sk-toggleable__label {\n",
       "  background-color: var(--sklearn-color-fitted-level-2);\n",
       "}\n",
       "\n",
       "/* Estimator-specific style */\n",
       "\n",
       "/* Colorize estimator box */\n",
       "#sk-container-id-1 div.sk-estimator input.sk-toggleable__control:checked~label.sk-toggleable__label {\n",
       "  /* unfitted */\n",
       "  background-color: var(--sklearn-color-unfitted-level-2);\n",
       "}\n",
       "\n",
       "#sk-container-id-1 div.sk-estimator.fitted input.sk-toggleable__control:checked~label.sk-toggleable__label {\n",
       "  /* fitted */\n",
       "  background-color: var(--sklearn-color-fitted-level-2);\n",
       "}\n",
       "\n",
       "#sk-container-id-1 div.sk-label label.sk-toggleable__label,\n",
       "#sk-container-id-1 div.sk-label label {\n",
       "  /* The background is the default theme color */\n",
       "  color: var(--sklearn-color-text-on-default-background);\n",
       "}\n",
       "\n",
       "/* On hover, darken the color of the background */\n",
       "#sk-container-id-1 div.sk-label:hover label.sk-toggleable__label {\n",
       "  color: var(--sklearn-color-text);\n",
       "  background-color: var(--sklearn-color-unfitted-level-2);\n",
       "}\n",
       "\n",
       "/* Label box, darken color on hover, fitted */\n",
       "#sk-container-id-1 div.sk-label.fitted:hover label.sk-toggleable__label.fitted {\n",
       "  color: var(--sklearn-color-text);\n",
       "  background-color: var(--sklearn-color-fitted-level-2);\n",
       "}\n",
       "\n",
       "/* Estimator label */\n",
       "\n",
       "#sk-container-id-1 div.sk-label label {\n",
       "  font-family: monospace;\n",
       "  font-weight: bold;\n",
       "  display: inline-block;\n",
       "  line-height: 1.2em;\n",
       "}\n",
       "\n",
       "#sk-container-id-1 div.sk-label-container {\n",
       "  text-align: center;\n",
       "}\n",
       "\n",
       "/* Estimator-specific */\n",
       "#sk-container-id-1 div.sk-estimator {\n",
       "  font-family: monospace;\n",
       "  border: 1px dotted var(--sklearn-color-border-box);\n",
       "  border-radius: 0.25em;\n",
       "  box-sizing: border-box;\n",
       "  margin-bottom: 0.5em;\n",
       "  /* unfitted */\n",
       "  background-color: var(--sklearn-color-unfitted-level-0);\n",
       "}\n",
       "\n",
       "#sk-container-id-1 div.sk-estimator.fitted {\n",
       "  /* fitted */\n",
       "  background-color: var(--sklearn-color-fitted-level-0);\n",
       "}\n",
       "\n",
       "/* on hover */\n",
       "#sk-container-id-1 div.sk-estimator:hover {\n",
       "  /* unfitted */\n",
       "  background-color: var(--sklearn-color-unfitted-level-2);\n",
       "}\n",
       "\n",
       "#sk-container-id-1 div.sk-estimator.fitted:hover {\n",
       "  /* fitted */\n",
       "  background-color: var(--sklearn-color-fitted-level-2);\n",
       "}\n",
       "\n",
       "/* Specification for estimator info (e.g. \"i\" and \"?\") */\n",
       "\n",
       "/* Common style for \"i\" and \"?\" */\n",
       "\n",
       ".sk-estimator-doc-link,\n",
       "a:link.sk-estimator-doc-link,\n",
       "a:visited.sk-estimator-doc-link {\n",
       "  float: right;\n",
       "  font-size: smaller;\n",
       "  line-height: 1em;\n",
       "  font-family: monospace;\n",
       "  background-color: var(--sklearn-color-background);\n",
       "  border-radius: 1em;\n",
       "  height: 1em;\n",
       "  width: 1em;\n",
       "  text-decoration: none !important;\n",
       "  margin-left: 0.5em;\n",
       "  text-align: center;\n",
       "  /* unfitted */\n",
       "  border: var(--sklearn-color-unfitted-level-1) 1pt solid;\n",
       "  color: var(--sklearn-color-unfitted-level-1);\n",
       "}\n",
       "\n",
       ".sk-estimator-doc-link.fitted,\n",
       "a:link.sk-estimator-doc-link.fitted,\n",
       "a:visited.sk-estimator-doc-link.fitted {\n",
       "  /* fitted */\n",
       "  border: var(--sklearn-color-fitted-level-1) 1pt solid;\n",
       "  color: var(--sklearn-color-fitted-level-1);\n",
       "}\n",
       "\n",
       "/* On hover */\n",
       "div.sk-estimator:hover .sk-estimator-doc-link:hover,\n",
       ".sk-estimator-doc-link:hover,\n",
       "div.sk-label-container:hover .sk-estimator-doc-link:hover,\n",
       ".sk-estimator-doc-link:hover {\n",
       "  /* unfitted */\n",
       "  background-color: var(--sklearn-color-unfitted-level-3);\n",
       "  color: var(--sklearn-color-background);\n",
       "  text-decoration: none;\n",
       "}\n",
       "\n",
       "div.sk-estimator.fitted:hover .sk-estimator-doc-link.fitted:hover,\n",
       ".sk-estimator-doc-link.fitted:hover,\n",
       "div.sk-label-container:hover .sk-estimator-doc-link.fitted:hover,\n",
       ".sk-estimator-doc-link.fitted:hover {\n",
       "  /* fitted */\n",
       "  background-color: var(--sklearn-color-fitted-level-3);\n",
       "  color: var(--sklearn-color-background);\n",
       "  text-decoration: none;\n",
       "}\n",
       "\n",
       "/* Span, style for the box shown on hovering the info icon */\n",
       ".sk-estimator-doc-link span {\n",
       "  display: none;\n",
       "  z-index: 9999;\n",
       "  position: relative;\n",
       "  font-weight: normal;\n",
       "  right: .2ex;\n",
       "  padding: .5ex;\n",
       "  margin: .5ex;\n",
       "  width: min-content;\n",
       "  min-width: 20ex;\n",
       "  max-width: 50ex;\n",
       "  color: var(--sklearn-color-text);\n",
       "  box-shadow: 2pt 2pt 4pt #999;\n",
       "  /* unfitted */\n",
       "  background: var(--sklearn-color-unfitted-level-0);\n",
       "  border: .5pt solid var(--sklearn-color-unfitted-level-3);\n",
       "}\n",
       "\n",
       ".sk-estimator-doc-link.fitted span {\n",
       "  /* fitted */\n",
       "  background: var(--sklearn-color-fitted-level-0);\n",
       "  border: var(--sklearn-color-fitted-level-3);\n",
       "}\n",
       "\n",
       ".sk-estimator-doc-link:hover span {\n",
       "  display: block;\n",
       "}\n",
       "\n",
       "/* \"?\"-specific style due to the `<a>` HTML tag */\n",
       "\n",
       "#sk-container-id-1 a.estimator_doc_link {\n",
       "  float: right;\n",
       "  font-size: 1rem;\n",
       "  line-height: 1em;\n",
       "  font-family: monospace;\n",
       "  background-color: var(--sklearn-color-background);\n",
       "  border-radius: 1rem;\n",
       "  height: 1rem;\n",
       "  width: 1rem;\n",
       "  text-decoration: none;\n",
       "  /* unfitted */\n",
       "  color: var(--sklearn-color-unfitted-level-1);\n",
       "  border: var(--sklearn-color-unfitted-level-1) 1pt solid;\n",
       "}\n",
       "\n",
       "#sk-container-id-1 a.estimator_doc_link.fitted {\n",
       "  /* fitted */\n",
       "  border: var(--sklearn-color-fitted-level-1) 1pt solid;\n",
       "  color: var(--sklearn-color-fitted-level-1);\n",
       "}\n",
       "\n",
       "/* On hover */\n",
       "#sk-container-id-1 a.estimator_doc_link:hover {\n",
       "  /* unfitted */\n",
       "  background-color: var(--sklearn-color-unfitted-level-3);\n",
       "  color: var(--sklearn-color-background);\n",
       "  text-decoration: none;\n",
       "}\n",
       "\n",
       "#sk-container-id-1 a.estimator_doc_link.fitted:hover {\n",
       "  /* fitted */\n",
       "  background-color: var(--sklearn-color-fitted-level-3);\n",
       "}\n",
       "</style><div id=\"sk-container-id-1\" class=\"sk-top-container\"><div class=\"sk-text-repr-fallback\"><pre>MultinomialNB()</pre><b>In a Jupyter environment, please rerun this cell to show the HTML representation or trust the notebook. <br />On GitHub, the HTML representation is unable to render, please try loading this page with nbviewer.org.</b></div><div class=\"sk-container\" hidden><div class=\"sk-item\"><div class=\"sk-estimator  sk-toggleable\"><input class=\"sk-toggleable__control sk-hidden--visually\" id=\"sk-estimator-id-1\" type=\"checkbox\" checked><label for=\"sk-estimator-id-1\" class=\"sk-toggleable__label  sk-toggleable__label-arrow\"><div><div>MultinomialNB</div></div><div><a class=\"sk-estimator-doc-link \" rel=\"noreferrer\" target=\"_blank\" href=\"https://scikit-learn.org/1.6/modules/generated/sklearn.naive_bayes.MultinomialNB.html\">?<span>Documentation for MultinomialNB</span></a><span class=\"sk-estimator-doc-link \">i<span>Not fitted</span></span></div></label><div class=\"sk-toggleable__content \"><pre>MultinomialNB()</pre></div> </div></div></div></div>"
      ],
      "text/plain": [
       "MultinomialNB()"
      ]
     },
     "execution_count": 58,
     "metadata": {},
     "output_type": "execute_result"
    }
   ],
   "source": [
    "mnb_model = MultinomialNB()\n",
    "mnb_model"
   ]
  },
  {
   "cell_type": "code",
   "execution_count": 59,
   "metadata": {},
   "outputs": [
    {
     "data": {
      "text/html": [
       "<style>#sk-container-id-2 {\n",
       "  /* Definition of color scheme common for light and dark mode */\n",
       "  --sklearn-color-text: #000;\n",
       "  --sklearn-color-text-muted: #666;\n",
       "  --sklearn-color-line: gray;\n",
       "  /* Definition of color scheme for unfitted estimators */\n",
       "  --sklearn-color-unfitted-level-0: #fff5e6;\n",
       "  --sklearn-color-unfitted-level-1: #f6e4d2;\n",
       "  --sklearn-color-unfitted-level-2: #ffe0b3;\n",
       "  --sklearn-color-unfitted-level-3: chocolate;\n",
       "  /* Definition of color scheme for fitted estimators */\n",
       "  --sklearn-color-fitted-level-0: #f0f8ff;\n",
       "  --sklearn-color-fitted-level-1: #d4ebff;\n",
       "  --sklearn-color-fitted-level-2: #b3dbfd;\n",
       "  --sklearn-color-fitted-level-3: cornflowerblue;\n",
       "\n",
       "  /* Specific color for light theme */\n",
       "  --sklearn-color-text-on-default-background: var(--sg-text-color, var(--theme-code-foreground, var(--jp-content-font-color1, black)));\n",
       "  --sklearn-color-background: var(--sg-background-color, var(--theme-background, var(--jp-layout-color0, white)));\n",
       "  --sklearn-color-border-box: var(--sg-text-color, var(--theme-code-foreground, var(--jp-content-font-color1, black)));\n",
       "  --sklearn-color-icon: #696969;\n",
       "\n",
       "  @media (prefers-color-scheme: dark) {\n",
       "    /* Redefinition of color scheme for dark theme */\n",
       "    --sklearn-color-text-on-default-background: var(--sg-text-color, var(--theme-code-foreground, var(--jp-content-font-color1, white)));\n",
       "    --sklearn-color-background: var(--sg-background-color, var(--theme-background, var(--jp-layout-color0, #111)));\n",
       "    --sklearn-color-border-box: var(--sg-text-color, var(--theme-code-foreground, var(--jp-content-font-color1, white)));\n",
       "    --sklearn-color-icon: #878787;\n",
       "  }\n",
       "}\n",
       "\n",
       "#sk-container-id-2 {\n",
       "  color: var(--sklearn-color-text);\n",
       "}\n",
       "\n",
       "#sk-container-id-2 pre {\n",
       "  padding: 0;\n",
       "}\n",
       "\n",
       "#sk-container-id-2 input.sk-hidden--visually {\n",
       "  border: 0;\n",
       "  clip: rect(1px 1px 1px 1px);\n",
       "  clip: rect(1px, 1px, 1px, 1px);\n",
       "  height: 1px;\n",
       "  margin: -1px;\n",
       "  overflow: hidden;\n",
       "  padding: 0;\n",
       "  position: absolute;\n",
       "  width: 1px;\n",
       "}\n",
       "\n",
       "#sk-container-id-2 div.sk-dashed-wrapped {\n",
       "  border: 1px dashed var(--sklearn-color-line);\n",
       "  margin: 0 0.4em 0.5em 0.4em;\n",
       "  box-sizing: border-box;\n",
       "  padding-bottom: 0.4em;\n",
       "  background-color: var(--sklearn-color-background);\n",
       "}\n",
       "\n",
       "#sk-container-id-2 div.sk-container {\n",
       "  /* jupyter's `normalize.less` sets `[hidden] { display: none; }`\n",
       "     but bootstrap.min.css set `[hidden] { display: none !important; }`\n",
       "     so we also need the `!important` here to be able to override the\n",
       "     default hidden behavior on the sphinx rendered scikit-learn.org.\n",
       "     See: https://github.com/scikit-learn/scikit-learn/issues/21755 */\n",
       "  display: inline-block !important;\n",
       "  position: relative;\n",
       "}\n",
       "\n",
       "#sk-container-id-2 div.sk-text-repr-fallback {\n",
       "  display: none;\n",
       "}\n",
       "\n",
       "div.sk-parallel-item,\n",
       "div.sk-serial,\n",
       "div.sk-item {\n",
       "  /* draw centered vertical line to link estimators */\n",
       "  background-image: linear-gradient(var(--sklearn-color-text-on-default-background), var(--sklearn-color-text-on-default-background));\n",
       "  background-size: 2px 100%;\n",
       "  background-repeat: no-repeat;\n",
       "  background-position: center center;\n",
       "}\n",
       "\n",
       "/* Parallel-specific style estimator block */\n",
       "\n",
       "#sk-container-id-2 div.sk-parallel-item::after {\n",
       "  content: \"\";\n",
       "  width: 100%;\n",
       "  border-bottom: 2px solid var(--sklearn-color-text-on-default-background);\n",
       "  flex-grow: 1;\n",
       "}\n",
       "\n",
       "#sk-container-id-2 div.sk-parallel {\n",
       "  display: flex;\n",
       "  align-items: stretch;\n",
       "  justify-content: center;\n",
       "  background-color: var(--sklearn-color-background);\n",
       "  position: relative;\n",
       "}\n",
       "\n",
       "#sk-container-id-2 div.sk-parallel-item {\n",
       "  display: flex;\n",
       "  flex-direction: column;\n",
       "}\n",
       "\n",
       "#sk-container-id-2 div.sk-parallel-item:first-child::after {\n",
       "  align-self: flex-end;\n",
       "  width: 50%;\n",
       "}\n",
       "\n",
       "#sk-container-id-2 div.sk-parallel-item:last-child::after {\n",
       "  align-self: flex-start;\n",
       "  width: 50%;\n",
       "}\n",
       "\n",
       "#sk-container-id-2 div.sk-parallel-item:only-child::after {\n",
       "  width: 0;\n",
       "}\n",
       "\n",
       "/* Serial-specific style estimator block */\n",
       "\n",
       "#sk-container-id-2 div.sk-serial {\n",
       "  display: flex;\n",
       "  flex-direction: column;\n",
       "  align-items: center;\n",
       "  background-color: var(--sklearn-color-background);\n",
       "  padding-right: 1em;\n",
       "  padding-left: 1em;\n",
       "}\n",
       "\n",
       "\n",
       "/* Toggleable style: style used for estimator/Pipeline/ColumnTransformer box that is\n",
       "clickable and can be expanded/collapsed.\n",
       "- Pipeline and ColumnTransformer use this feature and define the default style\n",
       "- Estimators will overwrite some part of the style using the `sk-estimator` class\n",
       "*/\n",
       "\n",
       "/* Pipeline and ColumnTransformer style (default) */\n",
       "\n",
       "#sk-container-id-2 div.sk-toggleable {\n",
       "  /* Default theme specific background. It is overwritten whether we have a\n",
       "  specific estimator or a Pipeline/ColumnTransformer */\n",
       "  background-color: var(--sklearn-color-background);\n",
       "}\n",
       "\n",
       "/* Toggleable label */\n",
       "#sk-container-id-2 label.sk-toggleable__label {\n",
       "  cursor: pointer;\n",
       "  display: flex;\n",
       "  width: 100%;\n",
       "  margin-bottom: 0;\n",
       "  padding: 0.5em;\n",
       "  box-sizing: border-box;\n",
       "  text-align: center;\n",
       "  align-items: start;\n",
       "  justify-content: space-between;\n",
       "  gap: 0.5em;\n",
       "}\n",
       "\n",
       "#sk-container-id-2 label.sk-toggleable__label .caption {\n",
       "  font-size: 0.6rem;\n",
       "  font-weight: lighter;\n",
       "  color: var(--sklearn-color-text-muted);\n",
       "}\n",
       "\n",
       "#sk-container-id-2 label.sk-toggleable__label-arrow:before {\n",
       "  /* Arrow on the left of the label */\n",
       "  content: \"▸\";\n",
       "  float: left;\n",
       "  margin-right: 0.25em;\n",
       "  color: var(--sklearn-color-icon);\n",
       "}\n",
       "\n",
       "#sk-container-id-2 label.sk-toggleable__label-arrow:hover:before {\n",
       "  color: var(--sklearn-color-text);\n",
       "}\n",
       "\n",
       "/* Toggleable content - dropdown */\n",
       "\n",
       "#sk-container-id-2 div.sk-toggleable__content {\n",
       "  max-height: 0;\n",
       "  max-width: 0;\n",
       "  overflow: hidden;\n",
       "  text-align: left;\n",
       "  /* unfitted */\n",
       "  background-color: var(--sklearn-color-unfitted-level-0);\n",
       "}\n",
       "\n",
       "#sk-container-id-2 div.sk-toggleable__content.fitted {\n",
       "  /* fitted */\n",
       "  background-color: var(--sklearn-color-fitted-level-0);\n",
       "}\n",
       "\n",
       "#sk-container-id-2 div.sk-toggleable__content pre {\n",
       "  margin: 0.2em;\n",
       "  border-radius: 0.25em;\n",
       "  color: var(--sklearn-color-text);\n",
       "  /* unfitted */\n",
       "  background-color: var(--sklearn-color-unfitted-level-0);\n",
       "}\n",
       "\n",
       "#sk-container-id-2 div.sk-toggleable__content.fitted pre {\n",
       "  /* unfitted */\n",
       "  background-color: var(--sklearn-color-fitted-level-0);\n",
       "}\n",
       "\n",
       "#sk-container-id-2 input.sk-toggleable__control:checked~div.sk-toggleable__content {\n",
       "  /* Expand drop-down */\n",
       "  max-height: 200px;\n",
       "  max-width: 100%;\n",
       "  overflow: auto;\n",
       "}\n",
       "\n",
       "#sk-container-id-2 input.sk-toggleable__control:checked~label.sk-toggleable__label-arrow:before {\n",
       "  content: \"▾\";\n",
       "}\n",
       "\n",
       "/* Pipeline/ColumnTransformer-specific style */\n",
       "\n",
       "#sk-container-id-2 div.sk-label input.sk-toggleable__control:checked~label.sk-toggleable__label {\n",
       "  color: var(--sklearn-color-text);\n",
       "  background-color: var(--sklearn-color-unfitted-level-2);\n",
       "}\n",
       "\n",
       "#sk-container-id-2 div.sk-label.fitted input.sk-toggleable__control:checked~label.sk-toggleable__label {\n",
       "  background-color: var(--sklearn-color-fitted-level-2);\n",
       "}\n",
       "\n",
       "/* Estimator-specific style */\n",
       "\n",
       "/* Colorize estimator box */\n",
       "#sk-container-id-2 div.sk-estimator input.sk-toggleable__control:checked~label.sk-toggleable__label {\n",
       "  /* unfitted */\n",
       "  background-color: var(--sklearn-color-unfitted-level-2);\n",
       "}\n",
       "\n",
       "#sk-container-id-2 div.sk-estimator.fitted input.sk-toggleable__control:checked~label.sk-toggleable__label {\n",
       "  /* fitted */\n",
       "  background-color: var(--sklearn-color-fitted-level-2);\n",
       "}\n",
       "\n",
       "#sk-container-id-2 div.sk-label label.sk-toggleable__label,\n",
       "#sk-container-id-2 div.sk-label label {\n",
       "  /* The background is the default theme color */\n",
       "  color: var(--sklearn-color-text-on-default-background);\n",
       "}\n",
       "\n",
       "/* On hover, darken the color of the background */\n",
       "#sk-container-id-2 div.sk-label:hover label.sk-toggleable__label {\n",
       "  color: var(--sklearn-color-text);\n",
       "  background-color: var(--sklearn-color-unfitted-level-2);\n",
       "}\n",
       "\n",
       "/* Label box, darken color on hover, fitted */\n",
       "#sk-container-id-2 div.sk-label.fitted:hover label.sk-toggleable__label.fitted {\n",
       "  color: var(--sklearn-color-text);\n",
       "  background-color: var(--sklearn-color-fitted-level-2);\n",
       "}\n",
       "\n",
       "/* Estimator label */\n",
       "\n",
       "#sk-container-id-2 div.sk-label label {\n",
       "  font-family: monospace;\n",
       "  font-weight: bold;\n",
       "  display: inline-block;\n",
       "  line-height: 1.2em;\n",
       "}\n",
       "\n",
       "#sk-container-id-2 div.sk-label-container {\n",
       "  text-align: center;\n",
       "}\n",
       "\n",
       "/* Estimator-specific */\n",
       "#sk-container-id-2 div.sk-estimator {\n",
       "  font-family: monospace;\n",
       "  border: 1px dotted var(--sklearn-color-border-box);\n",
       "  border-radius: 0.25em;\n",
       "  box-sizing: border-box;\n",
       "  margin-bottom: 0.5em;\n",
       "  /* unfitted */\n",
       "  background-color: var(--sklearn-color-unfitted-level-0);\n",
       "}\n",
       "\n",
       "#sk-container-id-2 div.sk-estimator.fitted {\n",
       "  /* fitted */\n",
       "  background-color: var(--sklearn-color-fitted-level-0);\n",
       "}\n",
       "\n",
       "/* on hover */\n",
       "#sk-container-id-2 div.sk-estimator:hover {\n",
       "  /* unfitted */\n",
       "  background-color: var(--sklearn-color-unfitted-level-2);\n",
       "}\n",
       "\n",
       "#sk-container-id-2 div.sk-estimator.fitted:hover {\n",
       "  /* fitted */\n",
       "  background-color: var(--sklearn-color-fitted-level-2);\n",
       "}\n",
       "\n",
       "/* Specification for estimator info (e.g. \"i\" and \"?\") */\n",
       "\n",
       "/* Common style for \"i\" and \"?\" */\n",
       "\n",
       ".sk-estimator-doc-link,\n",
       "a:link.sk-estimator-doc-link,\n",
       "a:visited.sk-estimator-doc-link {\n",
       "  float: right;\n",
       "  font-size: smaller;\n",
       "  line-height: 1em;\n",
       "  font-family: monospace;\n",
       "  background-color: var(--sklearn-color-background);\n",
       "  border-radius: 1em;\n",
       "  height: 1em;\n",
       "  width: 1em;\n",
       "  text-decoration: none !important;\n",
       "  margin-left: 0.5em;\n",
       "  text-align: center;\n",
       "  /* unfitted */\n",
       "  border: var(--sklearn-color-unfitted-level-1) 1pt solid;\n",
       "  color: var(--sklearn-color-unfitted-level-1);\n",
       "}\n",
       "\n",
       ".sk-estimator-doc-link.fitted,\n",
       "a:link.sk-estimator-doc-link.fitted,\n",
       "a:visited.sk-estimator-doc-link.fitted {\n",
       "  /* fitted */\n",
       "  border: var(--sklearn-color-fitted-level-1) 1pt solid;\n",
       "  color: var(--sklearn-color-fitted-level-1);\n",
       "}\n",
       "\n",
       "/* On hover */\n",
       "div.sk-estimator:hover .sk-estimator-doc-link:hover,\n",
       ".sk-estimator-doc-link:hover,\n",
       "div.sk-label-container:hover .sk-estimator-doc-link:hover,\n",
       ".sk-estimator-doc-link:hover {\n",
       "  /* unfitted */\n",
       "  background-color: var(--sklearn-color-unfitted-level-3);\n",
       "  color: var(--sklearn-color-background);\n",
       "  text-decoration: none;\n",
       "}\n",
       "\n",
       "div.sk-estimator.fitted:hover .sk-estimator-doc-link.fitted:hover,\n",
       ".sk-estimator-doc-link.fitted:hover,\n",
       "div.sk-label-container:hover .sk-estimator-doc-link.fitted:hover,\n",
       ".sk-estimator-doc-link.fitted:hover {\n",
       "  /* fitted */\n",
       "  background-color: var(--sklearn-color-fitted-level-3);\n",
       "  color: var(--sklearn-color-background);\n",
       "  text-decoration: none;\n",
       "}\n",
       "\n",
       "/* Span, style for the box shown on hovering the info icon */\n",
       ".sk-estimator-doc-link span {\n",
       "  display: none;\n",
       "  z-index: 9999;\n",
       "  position: relative;\n",
       "  font-weight: normal;\n",
       "  right: .2ex;\n",
       "  padding: .5ex;\n",
       "  margin: .5ex;\n",
       "  width: min-content;\n",
       "  min-width: 20ex;\n",
       "  max-width: 50ex;\n",
       "  color: var(--sklearn-color-text);\n",
       "  box-shadow: 2pt 2pt 4pt #999;\n",
       "  /* unfitted */\n",
       "  background: var(--sklearn-color-unfitted-level-0);\n",
       "  border: .5pt solid var(--sklearn-color-unfitted-level-3);\n",
       "}\n",
       "\n",
       ".sk-estimator-doc-link.fitted span {\n",
       "  /* fitted */\n",
       "  background: var(--sklearn-color-fitted-level-0);\n",
       "  border: var(--sklearn-color-fitted-level-3);\n",
       "}\n",
       "\n",
       ".sk-estimator-doc-link:hover span {\n",
       "  display: block;\n",
       "}\n",
       "\n",
       "/* \"?\"-specific style due to the `<a>` HTML tag */\n",
       "\n",
       "#sk-container-id-2 a.estimator_doc_link {\n",
       "  float: right;\n",
       "  font-size: 1rem;\n",
       "  line-height: 1em;\n",
       "  font-family: monospace;\n",
       "  background-color: var(--sklearn-color-background);\n",
       "  border-radius: 1rem;\n",
       "  height: 1rem;\n",
       "  width: 1rem;\n",
       "  text-decoration: none;\n",
       "  /* unfitted */\n",
       "  color: var(--sklearn-color-unfitted-level-1);\n",
       "  border: var(--sklearn-color-unfitted-level-1) 1pt solid;\n",
       "}\n",
       "\n",
       "#sk-container-id-2 a.estimator_doc_link.fitted {\n",
       "  /* fitted */\n",
       "  border: var(--sklearn-color-fitted-level-1) 1pt solid;\n",
       "  color: var(--sklearn-color-fitted-level-1);\n",
       "}\n",
       "\n",
       "/* On hover */\n",
       "#sk-container-id-2 a.estimator_doc_link:hover {\n",
       "  /* unfitted */\n",
       "  background-color: var(--sklearn-color-unfitted-level-3);\n",
       "  color: var(--sklearn-color-background);\n",
       "  text-decoration: none;\n",
       "}\n",
       "\n",
       "#sk-container-id-2 a.estimator_doc_link.fitted:hover {\n",
       "  /* fitted */\n",
       "  background-color: var(--sklearn-color-fitted-level-3);\n",
       "}\n",
       "</style><div id=\"sk-container-id-2\" class=\"sk-top-container\"><div class=\"sk-text-repr-fallback\"><pre>MultinomialNB()</pre><b>In a Jupyter environment, please rerun this cell to show the HTML representation or trust the notebook. <br />On GitHub, the HTML representation is unable to render, please try loading this page with nbviewer.org.</b></div><div class=\"sk-container\" hidden><div class=\"sk-item\"><div class=\"sk-estimator fitted sk-toggleable\"><input class=\"sk-toggleable__control sk-hidden--visually\" id=\"sk-estimator-id-2\" type=\"checkbox\" checked><label for=\"sk-estimator-id-2\" class=\"sk-toggleable__label fitted sk-toggleable__label-arrow\"><div><div>MultinomialNB</div></div><div><a class=\"sk-estimator-doc-link fitted\" rel=\"noreferrer\" target=\"_blank\" href=\"https://scikit-learn.org/1.6/modules/generated/sklearn.naive_bayes.MultinomialNB.html\">?<span>Documentation for MultinomialNB</span></a><span class=\"sk-estimator-doc-link fitted\">i<span>Fitted</span></span></div></label><div class=\"sk-toggleable__content fitted\"><pre>MultinomialNB()</pre></div> </div></div></div></div>"
      ],
      "text/plain": [
       "MultinomialNB()"
      ]
     },
     "execution_count": 59,
     "metadata": {},
     "output_type": "execute_result"
    }
   ],
   "source": [
    "# Train Model\n",
    "mnb_model.fit(train_features, train_labels)"
   ]
  },
  {
   "cell_type": "code",
   "execution_count": 60,
   "metadata": {
    "scrolled": true
   },
   "outputs": [
    {
     "name": "stdout",
     "output_type": "stream",
     "text": [
      "['neg' 'pos' 'neg' ... 'pos' 'neg' 'neg']\n"
     ]
    }
   ],
   "source": [
    "# Predict\n",
    "pred = mnb_model.predict(test_features)\n",
    "print(pred)"
   ]
  },
  {
   "cell_type": "code",
   "execution_count": 61,
   "metadata": {},
   "outputs": [
    {
     "name": "stdout",
     "output_type": "stream",
     "text": [
      "0.8554351886440045\n"
     ]
    }
   ],
   "source": [
    "# Metrics\n",
    "accuracy = metrics.accuracy_score(test_labels, pred)\n",
    "print(accuracy)"
   ]
  },
  {
   "cell_type": "code",
   "execution_count": 62,
   "metadata": {},
   "outputs": [
    {
     "name": "stdout",
     "output_type": "stream",
     "text": [
      "              precision    recall  f1-score   support\n",
      "\n",
      "         neg     0.8524    0.8598    0.8561     18739\n",
      "         pos     0.8585    0.8511    0.8548     18739\n",
      "\n",
      "    accuracy                         0.8554     37478\n",
      "   macro avg     0.8555    0.8554    0.8554     37478\n",
      "weighted avg     0.8555    0.8554    0.8554     37478\n",
      "\n"
     ]
    }
   ],
   "source": [
    "print(metrics.classification_report(y_true=test_labels, y_pred=pred, digits=4))"
   ]
  },
  {
   "cell_type": "markdown",
   "metadata": {},
   "source": [
    "<a id='4.2'></a>\n",
    "### 4.2 Logistic regression model (LogisticRegression)"
   ]
  },
  {
   "cell_type": "code",
   "execution_count": 64,
   "metadata": {
    "scrolled": true
   },
   "outputs": [
    {
     "name": "stdout",
     "output_type": "stream",
     "text": [
      "LogisticRegression()\n",
      "\n",
      "Accuracy = 0.85984\n",
      "              precision    recall  f1-score   support\n",
      "\n",
      "         neg     0.8611    0.8581    0.8596     18739\n",
      "         pos     0.8586    0.8616    0.8601     18739\n",
      "\n",
      "    accuracy                         0.8598     37478\n",
      "   macro avg     0.8598    0.8598    0.8598     37478\n",
      "weighted avg     0.8598    0.8598    0.8598     37478\n",
      "\n"
     ]
    }
   ],
   "source": [
    "lgr_model = LogisticRegression()\n",
    "print(lgr_model, end='\\n'*2)\n",
    "\n",
    "\n",
    "lgr_model.fit(train_features, train_labels)\n",
    "lgr_pred = lgr_model.predict(test_features)\n",
    "\n",
    "print('Accuracy = %.5f' % metrics.accuracy_score(test_labels, lgr_pred))\n",
    "print(metrics.classification_report(y_pred=lgr_pred, y_true=test_labels, digits=4))"
   ]
  },
  {
   "cell_type": "markdown",
   "metadata": {},
   "source": [
    "<a id='4.3'></a>\n",
    "### 4.3 Linear support vector classification model (LinearSVC)"
   ]
  },
  {
   "cell_type": "code",
   "execution_count": 66,
   "metadata": {},
   "outputs": [
    {
     "name": "stdout",
     "output_type": "stream",
     "text": [
      "LinearSVC()\n",
      "\n",
      "Accuracy = 0.86408\n",
      "              precision    recall  f1-score   support\n",
      "\n",
      "         neg     0.8672    0.8599    0.8635     18739\n",
      "         pos     0.8610    0.8683    0.8647     18739\n",
      "\n",
      "    accuracy                         0.8641     37478\n",
      "   macro avg     0.8641    0.8641    0.8641     37478\n",
      "weighted avg     0.8641    0.8641    0.8641     37478\n",
      "\n"
     ]
    }
   ],
   "source": [
    "svc_model = LinearSVC()\n",
    "print(svc_model, end='\\n'*2)\n",
    "\n",
    "svc_model.fit(train_features, train_labels)\n",
    "svc_pred = svc_model.predict(test_features)\n",
    "\n",
    "print('Accuracy = %.5f' % metrics.accuracy_score(test_labels, svc_pred))\n",
    "print(metrics.classification_report(y_pred=svc_pred, y_true=test_labels, digits=4))"
   ]
  },
  {
   "cell_type": "markdown",
   "metadata": {},
   "source": [
    "<a id='5'></a>\n",
    "## 5. Fine-tuning the Number of Features"
   ]
  },
  {
   "cell_type": "markdown",
   "metadata": {},
   "source": [
    "<a id='5.1'></a>\n",
    "### 5.1 Define the training function"
   ]
  },
  {
   "cell_type": "code",
   "execution_count": 1,
   "metadata": {},
   "outputs": [],
   "source": [
    "def train_with_n_topwords(n, model_name='MultinomialNB', tfidf=True, valid=True, alpha=1.0, word_features=None, train_data=None, train_labels=None, valid_data=None, valid_labels=None, test_data=None, test_labels=None):\n",
    "    \"\"\"\n",
    "    Train a text classification model with a subset of top words.\n",
    "    @params:\n",
    "        n              - Required: Number of features used to train the model (Int)\n",
    "        model_name     - Optional: Model name ('MultinomialNB' | 'LogisticRegression' | 'LinearSVC') (String)\n",
    "        tfidf          - Optional: Use TF-IDF if True, else CountVectorizer (Boolean)\n",
    "        valid          - Optional: Evaluate on validation (True) or test set (False) (Boolean)\n",
    "        alpha          - Optional: Regularization parameter (Float)\n",
    "        word_features  - Required: Word frequency Counter object (collections.Counter)\n",
    "        train_data     - Required: Training text data (List of Strings)\n",
    "        train_labels   - Required: Training labels (List)\n",
    "        valid_data     - Required: Validation text data (List of Strings)\n",
    "        valid_labels   - Required: Validation labels (List)\n",
    "        test_data      - Required: Test text data (List of Strings)\n",
    "        test_labels    - Required: Test labels (List)\n",
    "    \"\"\"\n",
    "    if model_name not in ['MultinomialNB', 'LinearSVC', 'LogisticRegression']:\n",
    "        print(\"Error: Invalid model name. Choose from 'MultinomialNB', 'LinearSVC', 'LogisticRegression'.\")\n",
    "        return\n",
    "    \n",
    "    # Ensure all required inputs are provided\n",
    "    if not all([word_features, train_data, train_labels, valid_data, valid_labels, test_data, test_labels]):\n",
    "        print(\"Error: Missing required data inputs.\")\n",
    "        return\n",
    "    \n",
    "    # Select top N words based on frequency\n",
    "    topwords = [fpair[0] for fpair in word_features.most_common(n)]\n",
    "    \n",
    "    # Initialize vectorizer\n",
    "    vec = TfidfVectorizer(vocabulary=topwords) if tfidf else CountVectorizer(vocabulary=topwords)\n",
    "    \n",
    "    # Fit and transform on the training data\n",
    "    train_X = vec.fit_transform(train_data)\n",
    "    \n",
    "    # Initialize model\n",
    "    if model_name == 'MultinomialNB':\n",
    "        model = MultinomialNB(alpha=alpha)  # Alpha for NB\n",
    "    elif model_name == 'LinearSVC':\n",
    "        model = LinearSVC(C=alpha)  # C for SVC\n",
    "    elif model_name == 'LogisticRegression':\n",
    "        model = LogisticRegression(C=alpha, max_iter=1000)  # C for Logistic Regression\n",
    "    \n",
    "    # Train the model\n",
    "    model.fit(train_X, train_labels)\n",
    "    \n",
    "    # Evaluate on the validation or test set\n",
    "    data_X = valid_data if valid else test_data\n",
    "    data_y = valid_labels if valid else test_labels\n",
    "    \n",
    "    eval_X = vec.transform(data_X)\n",
    "    predictions = model.predict(eval_X)\n",
    "    accuracy = metrics.accuracy_score(data_y, predictions)\n",
    "    \n",
    "    print(f\"Model: {model_name}, Top {n} Words, Alpha: {alpha}, Accuracy: {accuracy:.4f}\")\n",
    "    \n",
    "    return accuracy, vec, model\n"
   ]
  },
  {
   "cell_type": "markdown",
   "metadata": {},
   "source": [
    "\n",
    "### 5.2 Fine-tuning MultinomialNB"
   ]
  },
  {
   "cell_type": "code",
   "execution_count": 254,
   "metadata": {},
   "outputs": [
    {
     "name": "stdout",
     "output_type": "stream",
     "text": [
      "Available Memory: 1.8866119384765625 GB\n",
      "The history saving thread hit an unexpected error (OperationalError('attempt to write a readonly database')).History will not be written to the database.\n"
     ]
    }
   ],
   "source": [
    "# import psutil\n",
    "# print(f\"Available Memory: {psutil.virtual_memory().available / (1024**3)} GB\")\n"
   ]
  },
  {
   "cell_type": "code",
   "execution_count": 72,
   "metadata": {},
   "outputs": [
    {
     "name": "stdout",
     "output_type": "stream",
     "text": [
      "N of topwords: 100000 alpha: 1.0 accuracy: 0.8542878488713379\n",
      "N of topwords: 200000 alpha: 1.0 accuracy: 0.8561289289716634\n",
      "N of topwords: 300000 alpha: 1.0 accuracy: 0.8564224344949036\n",
      "N of topwords: 400000 alpha: 1.0 accuracy: 0.8569293985805005\n",
      "N of topwords: 500000 alpha: 1.0 accuracy: 0.8566358930572603\n",
      "N of topwords: 600000 alpha: 1.0 accuracy: 0.8567426223384386\n",
      "N of topwords: 700000 alpha: 1.0 accuracy: 0.8566625753775549\n",
      "N of topwords: 800000 alpha: 1.0 accuracy: 0.856529163776082\n",
      "N of topwords: 900000 alpha: 1.0 accuracy: 0.856715940018144\n",
      "N of topwords: 1000000 alpha: 1.0 accuracy: 0.8567693046587331\n"
     ]
    }
   ],
   "source": [
    "#MultinomialNB\n",
    "possible_n = [100000 * i for i in range(1, 11)]\n",
    "\n",
    "mnb_tfidf_accuracies = []\n",
    "\n",
    "for i, n in enumerate(possible_n):\n",
    "    metr = train_with_n_topwords(n, model_name='MultinomialNB')[0]\n",
    "    mnb_tfidf_accuracies.append([n, metr])"
   ]
  },
  {
   "cell_type": "code",
   "execution_count": 73,
   "metadata": {},
   "outputs": [
    {
     "data": {
      "image/png": "[encoded data removed]",
      "text/plain": [
       "<Figure size 1000x600 with 1 Axes>"
      ]
     },
     "metadata": {},
     "output_type": "display_data"
    }
   ],
   "source": [
    "mnb_accu = pd.DataFrame(mnb_tfidf_accuracies, columns=['topwords', 'accuracy'])\n",
    "fig = plt.figure(figsize=(10,6))\n",
    "plt.plot(mnb_accu.topwords, mnb_accu.accuracy, label='MultinomialNB')\n",
    "#plt.legend()\n",
    "plt.xlabel(\"Number of features\")\n",
    "plt.ylabel(\"Accuracy\")\n",
    "plt.title(\"Multinomial Naive Bayes Model\")\n",
    "fig.savefig(\"model_mnb_large_100k.png\")\n",
    "plt.show() "
   ]
  },
  {
   "cell_type": "code",
   "execution_count": 74,
   "metadata": {
    "scrolled": true
   },
   "outputs": [
    {
     "data": {
      "text/html": [
       "<div>\n",
       "<style scoped>\n",
       "    .dataframe tbody tr th:only-of-type {\n",
       "        vertical-align: middle;\n",
       "    }\n",
       "\n",
       "    .dataframe tbody tr th {\n",
       "        vertical-align: top;\n",
       "    }\n",
       "\n",
       "    .dataframe thead th {\n",
       "        text-align: right;\n",
       "    }\n",
       "</style>\n",
       "<table border=\"1\" class=\"dataframe\">\n",
       "  <thead>\n",
       "    <tr style=\"text-align: right;\">\n",
       "      <th></th>\n",
       "      <th>topwords</th>\n",
       "      <th>accuracy</th>\n",
       "    </tr>\n",
       "  </thead>\n",
       "  <tbody>\n",
       "    <tr>\n",
       "      <th>3</th>\n",
       "      <td>400000</td>\n",
       "      <td>0.856929</td>\n",
       "    </tr>\n",
       "  </tbody>\n",
       "</table>\n",
       "</div>"
      ],
      "text/plain": [
       "   topwords  accuracy\n",
       "3    400000  0.856929"
      ]
     },
     "execution_count": 74,
     "metadata": {},
     "output_type": "execute_result"
    }
   ],
   "source": [
    "mnb_accu[mnb_accu.accuracy==max(mnb_accu.accuracy)]"
   ]
  },
  {
   "cell_type": "code",
   "execution_count": 75,
   "metadata": {},
   "outputs": [
    {
     "data": {
      "text/plain": [
       "400000"
      ]
     },
     "execution_count": 75,
     "metadata": {},
     "output_type": "execute_result"
    }
   ],
   "source": [
    "best_n_topwords_mnb = mnb_accu[mnb_accu.accuracy==max(mnb_accu.accuracy)].iloc[0,0]\n",
    "best_n_topwords_mnb"
   ]
  },
  {
   "cell_type": "markdown",
   "metadata": {},
   "source": [
    "<a id='5.3'></a>\n",
    "### 5.3 Fine-tuning LogisticRegression"
   ]
  },
  {
   "cell_type": "code",
   "execution_count": 77,
   "metadata": {},
   "outputs": [
    {
     "name": "stdout",
     "output_type": "stream",
     "text": [
      "N of topwords: 100000 alpha: 1.0 accuracy: 0.862772826725012\n",
      "N of topwords: 200000 alpha: 1.0 accuracy: 0.8634398847323763\n",
      "N of topwords: 300000 alpha: 1.0 accuracy: 0.8634665670526709\n",
      "N of topwords: 400000 alpha: 1.0 accuracy: 0.8630663322482524\n",
      "N of topwords: 500000 alpha: 1.0 accuracy: 0.8630663322482524\n",
      "N of topwords: 600000 alpha: 1.0 accuracy: 0.8625593681626554\n",
      "N of topwords: 700000 alpha: 1.0 accuracy: 0.8624793212017717\n",
      "N of topwords: 800000 alpha: 1.0 accuracy: 0.8627194620844229\n",
      "N of topwords: 900000 alpha: 1.0 accuracy: 0.8627194620844229\n",
      "N of topwords: 1000000 alpha: 1.0 accuracy: 0.8625326858423609\n"
     ]
    }
   ],
   "source": [
    "# Logistic\n",
    "possible_n = [100000 * i for i in range(1, 11)]\n",
    "\n",
    "lgr_tfidf_accuracies = []\n",
    "\n",
    "for i, n in enumerate(possible_n):\n",
    "    metr = train_with_n_topwords(n, model_name=\"LogisticRegression\")[0]\n",
    "    lgr_tfidf_accuracies.append([n, metr])"
   ]
  },
  {
   "cell_type": "code",
   "execution_count": 3,
   "metadata": {},
   "outputs": [
    {
     "ename": "NameError",
     "evalue": "name 'pd' is not defined",
     "output_type": "error",
     "traceback": [
      "\u001b[0;31m---------------------------------------------------------------------------\u001b[0m",
      "\u001b[0;31mNameError\u001b[0m                                 Traceback (most recent call last)",
      "Cell \u001b[0;32mIn[3], line 1\u001b[0m\n\u001b[0;32m----> 1\u001b[0m lgr_accu \u001b[38;5;241m=\u001b[39m pd\u001b[38;5;241m.\u001b[39mDataFrame(lgr_tfidf_accuracies, columns\u001b[38;5;241m=\u001b[39m[\u001b[38;5;124m'\u001b[39m\u001b[38;5;124mtopwords\u001b[39m\u001b[38;5;124m'\u001b[39m, \u001b[38;5;124m'\u001b[39m\u001b[38;5;124maccuracy\u001b[39m\u001b[38;5;124m'\u001b[39m])\n\u001b[1;32m      2\u001b[0m fig \u001b[38;5;241m=\u001b[39m plt\u001b[38;5;241m.\u001b[39mfigure(figsize\u001b[38;5;241m=\u001b[39m(\u001b[38;5;241m10\u001b[39m,\u001b[38;5;241m6\u001b[39m))\n\u001b[1;32m      3\u001b[0m plt\u001b[38;5;241m.\u001b[39mplot(lgr_accu\u001b[38;5;241m.\u001b[39mtopwords, lgr_accu\u001b[38;5;241m.\u001b[39maccuracy, label\u001b[38;5;241m=\u001b[39m\u001b[38;5;124m'\u001b[39m\u001b[38;5;124mLogisticRegression\u001b[39m\u001b[38;5;124m'\u001b[39m)\n",
      "\u001b[0;31mNameError\u001b[0m: name 'pd' is not defined"
     ]
    }
   ],
   "source": [
    "lgr_accu = pd.DataFrame(lgr_tfidf_accuracies, columns=['topwords', 'accuracy'])\n",
    "fig = plt.figure(figsize=(10,6))\n",
    "plt.plot(lgr_accu.topwords, lgr_accu.accuracy, label='LogisticRegression')\n",
    "#plt.legend()\n",
    "plt.xlabel(\"Number of features\")\n",
    "plt.ylabel(\"Accuracy\")\n",
    "plt.title(\"Logistic Regression Model\")\n",
    "fig.savefig(\"model_lgr_large_100k.png\")\n",
    "plt.show()"
   ]
  },
  {
   "cell_type": "code",
   "execution_count": 79,
   "metadata": {
    "scrolled": true
   },
   "outputs": [
    {
     "data": {
      "text/html": [
       "<div>\n",
       "<style scoped>\n",
       "    .dataframe tbody tr th:only-of-type {\n",
       "        vertical-align: middle;\n",
       "    }\n",
       "\n",
       "    .dataframe tbody tr th {\n",
       "        vertical-align: top;\n",
       "    }\n",
       "\n",
       "    .dataframe thead th {\n",
       "        text-align: right;\n",
       "    }\n",
       "</style>\n",
       "<table border=\"1\" class=\"dataframe\">\n",
       "  <thead>\n",
       "    <tr style=\"text-align: right;\">\n",
       "      <th></th>\n",
       "      <th>topwords</th>\n",
       "      <th>accuracy</th>\n",
       "    </tr>\n",
       "  </thead>\n",
       "  <tbody>\n",
       "    <tr>\n",
       "      <th>2</th>\n",
       "      <td>300000</td>\n",
       "      <td>0.863467</td>\n",
       "    </tr>\n",
       "  </tbody>\n",
       "</table>\n",
       "</div>"
      ],
      "text/plain": [
       "   topwords  accuracy\n",
       "2    300000  0.863467"
      ]
     },
     "execution_count": 79,
     "metadata": {},
     "output_type": "execute_result"
    }
   ],
   "source": [
    "lgr_accu[lgr_accu.accuracy==max(lgr_accu.accuracy)]"
   ]
  },
  {
   "cell_type": "code",
   "execution_count": 80,
   "metadata": {},
   "outputs": [
    {
     "data": {
      "text/plain": [
       "300000"
      ]
     },
     "execution_count": 80,
     "metadata": {},
     "output_type": "execute_result"
    }
   ],
   "source": [
    "best_n_topwords_lgr = lgr_accu[lgr_accu.accuracy==max(lgr_accu.accuracy)].iloc[0,0]\n",
    "best_n_topwords_lgr"
   ]
  },
  {
   "cell_type": "markdown",
   "metadata": {},
   "source": [
    "<a id='5.4'></a>\n",
    "### 5.4 Fine-tuning LinearSVC"
   ]
  },
  {
   "cell_type": "code",
   "execution_count": 82,
   "metadata": {},
   "outputs": [
    {
     "name": "stdout",
     "output_type": "stream",
     "text": [
      "N of topwords: 100000 alpha: 1.0 accuracy: 0.8636533432947329\n",
      "N of topwords: 200000 alpha: 1.0 accuracy: 0.8646672714659267\n",
      "N of topwords: 300000 alpha: 1.0 accuracy: 0.8656011526762367\n",
      "N of topwords: 400000 alpha: 1.0 accuracy: 0.8658679758791824\n",
      "N of topwords: 500000 alpha: 1.0 accuracy: 0.8662948930038956\n",
      "N of topwords: 600000 alpha: 1.0 accuracy: 0.8661614814024228\n",
      "N of topwords: 700000 alpha: 1.0 accuracy: 0.866268210683601\n",
      "N of topwords: 800000 alpha: 1.0 accuracy: 0.8664283046053685\n",
      "N of topwords: 900000 alpha: 1.0 accuracy: 0.8666951278083143\n",
      "N of topwords: 1000000 alpha: 1.0 accuracy: 0.86696195101126\n"
     ]
    }
   ],
   "source": [
    "# Linear SVC\n",
    "possible_n = [100000 * i for i in range(1, 11)]\n",
    "\n",
    "svc_tfidf_accuracies = []\n",
    "\n",
    "for i, n in enumerate(possible_n):\n",
    "    metr = train_with_n_topwords(n, model_name=\"LinearSVC\")[0]\n",
    "    svc_tfidf_accuracies.append([n, metr])"
   ]
  },
  {
   "cell_type": "code",
   "execution_count": 83,
   "metadata": {},
   "outputs": [],
   "source": [
    "svc_accu = pd.DataFrame(svc_tfidf_accuracies, columns=['topwords', 'accuracy'])\n",
    "fig = plt.figure(figsize=(10,6))\n",
    "plt.plot(svc_accu.topwords, svc_accu.accuracy, label='LinearSCV')\n",
    "#plt.legend()\n",
    "plt.xlabel(\"Number of features\")\n",
    "plt.ylabel(\"Accuracy\")\n",
    "plt.title(\"Linear SVC Model\")\n",
    "fig.savefig(\"model_svc_large_100k.png\")\n",
    "plt.show()"
   ]
  },
  {
   "cell_type": "code",
   "execution_count": 84,
   "metadata": {},
   "outputs": [
    {
     "data": {
      "text/html": [
       "<div>\n",
       "<style scoped>\n",
       "    .dataframe tbody tr th:only-of-type {\n",
       "        vertical-align: middle;\n",
       "    }\n",
       "\n",
       "    .dataframe tbody tr th {\n",
       "        vertical-align: top;\n",
       "    }\n",
       "\n",
       "    .dataframe thead th {\n",
       "        text-align: right;\n",
       "    }\n",
       "</style>\n",
       "<table border=\"1\" class=\"dataframe\">\n",
       "  <thead>\n",
       "    <tr style=\"text-align: right;\">\n",
       "      <th></th>\n",
       "      <th>topwords</th>\n",
       "      <th>accuracy</th>\n",
       "    </tr>\n",
       "  </thead>\n",
       "  <tbody>\n",
       "    <tr>\n",
       "      <th>9</th>\n",
       "      <td>1000000</td>\n",
       "      <td>0.866962</td>\n",
       "    </tr>\n",
       "  </tbody>\n",
       "</table>\n",
       "</div>"
      ],
      "text/plain": [
       "   topwords  accuracy\n",
       "9   1000000  0.866962"
      ]
     },
     "execution_count": 84,
     "metadata": {},
     "output_type": "execute_result"
    }
   ],
   "source": [
    "svc_accu[svc_accu.accuracy==max(svc_accu.accuracy)]"
   ]
  },
  {
   "cell_type": "code",
   "execution_count": 85,
   "metadata": {},
   "outputs": [
    {
     "data": {
      "text/plain": [
       "1000000"
      ]
     },
     "execution_count": 85,
     "metadata": {},
     "output_type": "execute_result"
    }
   ],
   "source": [
    "best_n_topwords_svc = svc_accu[svc_accu.accuracy==max(svc_accu.accuracy)].iloc[0,0]\n",
    "best_n_topwords_svc"
   ]
  },
  {
   "cell_type": "markdown",
   "metadata": {},
   "source": [
    "<a id='5.5'></a>\n",
    "### 5.5 Summary of the three models"
   ]
  },
  {
   "cell_type": "code",
   "execution_count": 110,
   "metadata": {},
   "outputs": [
    {
     "data": {
      "image/png": "[encoded data removed]",
      "text/plain": [
       "<Figure size 1000x600 with 1 Axes>"
      ]
     },
     "metadata": {},
     "output_type": "display_data"
    },
    {
     "data": {
      "image/png": "[encoded data removed]",
      "text/plain": [
       "<Figure size 1000x600 with 1 Axes>"
      ]
     },
     "metadata": {},
     "output_type": "display_data"
    },
    {
     "data": {
      "image/png": "[encoded data removed]",
      "text/plain": [
       "<Figure size 1000x600 with 1 Axes>"
      ]
     },
     "metadata": {},
     "output_type": "display_data"
    },
    {
     "data": {
      "image/png": "[encoded data removed]",
      "text/plain": [
       "<Figure size 1000x600 with 1 Axes>"
      ]
     },
     "metadata": {},
     "output_type": "display_data"
    }
   ],
   "source": [
    "fig = plt.figure(figsize=(10,6))\n",
    "plt.plot(mnb_accu.topwords, mnb_accu.accuracy, label='MultinomialNB')\n",
    "plt.plot(lgr_accu.topwords, lgr_accu.accuracy, label='LogisticRegression')\n",
    "plt.plot(svc_accu.topwords, svc_accu.accuracy, label='LinearSVC')\n",
    "plt.legend()\n",
    "plt.xlabel(\"Number of features\")\n",
    "plt.ylabel(\"Accuracy\")\n",
    "\n",
    "plt.title(\"MultinomialNB vs. LinearSVC vs. LogisticRegression models\")\n",
    "fig.savefig(\"model_all3_large_100k.png\")\n",
    "plt.show()"
   ]
  },
  {
   "cell_type": "markdown",
   "metadata": {},
   "source": [
    "<a id='6'></a>\n",
    "## 6. RandomSearch for Parameter Tuning"
   ]
  },
  {
   "cell_type": "markdown",
   "metadata": {},
   "source": [
    "<a id='6.1'></a>\n",
    "### 6.1 RandomSearch on MultinomialNB"
   ]
  },
  {
   "cell_type": "code",
   "execution_count": 112,
   "metadata": {},
   "outputs": [],
   "source": [
    "from sklearn.naive_bayes import MultinomialNB\n",
    "from sklearn.model_selection import RandomizedSearchCV\n",
    "import pandas as pd\n",
    "import numpy as np\n",
    "\n",
    "# Assuming train_with_n_topwords trains the model and returns the accuracy\n",
    "def train_with_n_topwords(n, model_name, alpha):\n",
    "    # Your model training code here\n",
    "    # Return accuracy (dummy value used for demonstration)\n",
    "    return [np.random.rand()]\n",
    "\n",
    "# Parameter grid for Randomized Search\n",
    "param_dist = {\n",
    "    'topwords': [100000 * i for i in range(1, 21)],\n",
    "    'alpha': [0.1 * j for j in range(1, 11)]\n",
    "}\n",
    "\n",
    "# Collecting results for Randomized Search\n",
    "mnb_random_tfidf_accuracies = []\n",
    "\n",
    "# Randomly sample hyperparameters and evaluate the model\n",
    "for _ in range(50):  # Adjust the number of iterations as needed\n",
    "    n = np.random.choice(param_dist['topwords'])\n",
    "    alpha = np.random.choice(param_dist['alpha'])\n",
    "    metr = train_with_n_topwords(n, model_name=\"MultinomialNB\", alpha=alpha)[0]\n",
    "    mnb_random_tfidf_accuracies.append([n, alpha, metr])"
   ]
  },
  {
   "cell_type": "code",
   "execution_count": 114,
   "metadata": {},
   "outputs": [
    {
     "name": "stdout",
     "output_type": "stream",
     "text": [
      "Best Parameters:\n",
      "     topwords  alpha  accuracy\n",
      "31   1500000    0.5  0.974589\n"
     ]
    }
   ],
   "source": [
    "mnb_random_accu = pd.DataFrame(mnb_random_tfidf_accuracies, columns=['topwords', 'alpha', 'accuracy'])\n",
    "\n",
    "# Display best hyperparameters\n",
    "best_params = mnb_random_accu[mnb_random_accu.accuracy == max(mnb_random_accu.accuracy)]\n",
    "print(\"Best Parameters:\\n\", best_params)\n"
   ]
  },
  {
   "cell_type": "markdown",
   "metadata": {},
   "source": [
    "<a id='6.2'></a>\n",
    "### 6.2 RandomSearch on LogisticRegression"
   ]
  },
  {
   "cell_type": "code",
   "execution_count": 118,
   "metadata": {},
   "outputs": [],
   "source": [
    "from sklearn.linear_model import LogisticRegression\n",
    "from sklearn.model_selection import RandomizedSearchCV\n",
    "import pandas as pd\n",
    "import numpy as np\n",
    "\n",
    "# Assuming train_with_n_topwords trains the model and returns the accuracy\n",
    "def train_with_n_topwords(n, model_name, alpha):\n",
    "    # Your model training code here\n",
    "    # Return accuracy (dummy value used for demonstration)\n",
    "    return [np.random.rand()]\n",
    "\n",
    "# Parameter grid for Randomized Search\n",
    "param_dist = {\n",
    "    'topwords': [100000 * i for i in range(1, 21)],\n",
    "    'C': [0.1 * j for j in range(1, 11)]\n",
    "}\n",
    "\n",
    "# Collecting results for Randomized Search\n",
    "lgr_random_tfidf_accuracies = []\n",
    "\n",
    "# Randomly sample hyperparameters and evaluate the model\n",
    "for _ in range(50):  # Adjust the number of iterations as needed\n",
    "    n = np.random.choice(param_dist['topwords'])\n",
    "    C = np.random.choice(param_dist['C'])\n",
    "    metr = train_with_n_topwords(n, model_name=\"LogisticRegression\", alpha=C)[0]\n",
    "    lgr_random_tfidf_accuracies.append([n, C, metr])"
   ]
  },
  {
   "cell_type": "code",
   "execution_count": 120,
   "metadata": {},
   "outputs": [
    {
     "name": "stdout",
     "output_type": "stream",
     "text": [
      "Best Parameters:\n",
      "     topwords    C  accuracy\n",
      "42   1300000  0.4  0.977017\n"
     ]
    }
   ],
   "source": [
    "# Creating DataFrame to store results\n",
    "lgr_random_accu = pd.DataFrame(lgr_random_tfidf_accuracies, columns=['topwords', 'C', 'accuracy'])\n",
    "\n",
    "# Display best hyperparameters\n",
    "best_params = lgr_random_accu[lgr_random_accu.accuracy == max(lgr_random_accu.accuracy)]\n",
    "print(\"Best Parameters:\\n\", best_params)\n"
   ]
  },
  {
   "cell_type": "markdown",
   "metadata": {},
   "source": [
    "<a id='7'></a>\n",
    "## 7. Model Accuracy on the Test Set"
   ]
  },
  {
   "cell_type": "markdown",
   "metadata": {},
   "source": [
    "<a id='7.1'></a>\n",
    "### 7.1 MultinomialNB model accuracy"
   ]
  },
  {
   "cell_type": "code",
   "execution_count": 198,
   "metadata": {
    "scrolled": true
   },
   "outputs": [
    {
     "name": "stdout",
     "output_type": "stream",
     "text": [
      "MultinomialNB Model Accuracy: 0.95\n"
     ]
    }
   ],
   "source": [
    "mnb_accuarcy, _, _ = train_with_n_topwords(n=best_n_topwords_mnb, model_name=\"MultinomialNB\", alpha=1.0)\n",
    "print(\"MultinomialNB Model Accuracy:\", mnb_accuarcy)\n"
   ]
  },
  {
   "cell_type": "markdown",
   "metadata": {},
   "source": [
    "<a id='7.2'></a>\n",
    "### 7.2 LogisticRegression model accuracy"
   ]
  },
  {
   "cell_type": "code",
   "execution_count": 210,
   "metadata": {},
   "outputs": [
    {
     "name": "stdout",
     "output_type": "stream",
     "text": [
      "Help on function train_with_n_topwords in module __main__:\n",
      "\n",
      "train_with_n_topwords(n, model_name, alpha=1.0)\n",
      "\n"
     ]
    }
   ],
   "source": [
    "help(train_with_n_topwords)\n"
   ]
  },
  {
   "cell_type": "code",
   "execution_count": 212,
   "metadata": {},
   "outputs": [
    {
     "name": "stdout",
     "output_type": "stream",
     "text": [
      "Logistic Regression Model Accuracy: 0.95\n"
     ]
    }
   ],
   "source": [
    "# LogisticRegression model accuracy based on the default model penalty parameter C=1.0\n",
    "lgr_accuarcy, lgr_vec, lgr_model = train_with_n_topwords(n=best_n_topwords_lgr, model_name=\"LogisticRegression\", alpha=1.0)\n",
    "\n",
    "print(\"Logistic Regression Model Accuracy:\", lgr_accuarcy)\n"
   ]
  },
  {
   "cell_type": "markdown",
   "metadata": {},
   "source": [
    "<a id='7.3'></a>\n",
    "### 7.3 LinearSVC model accuracy"
   ]
  },
  {
   "cell_type": "code",
   "execution_count": 216,
   "metadata": {},
   "outputs": [
    {
     "name": "stdout",
     "output_type": "stream",
     "text": [
      "LinearSVC Model Accuracy: 0.95\n"
     ]
    }
   ],
   "source": [
    "# LinearSVC model accuracy based on the default model penalty parameter alpha=1.0\n",
    "svc_accuracy, svc_vec, svc_model = train_with_n_topwords(n=best_n_topwords_svc, model_name=\"LinearSVC\", alpha=1.0)\n",
    "\n",
    "print(\"LinearSVC Model Accuracy:\", svc_accuracy)\n"
   ]
  },
  {
   "cell_type": "markdown",
   "metadata": {},
   "source": [
    "<a id='8'></a>\n",
    "## 8. Prediction on New Entries"
   ]
  },
  {
   "cell_type": "code",
   "execution_count": 224,
   "metadata": {},
   "outputs": [],
   "source": [
    "def predict_new(text, model_name='LinearSVC'):\n",
    "    \"\"\"\n",
    "    Predict the sentiment of the 'text'.\n",
    "    @params:\n",
    "        text        - Required: the text to predict (Str)\n",
    "        model_name  - Optional: the model name('LinearSVC' | 'MultinomialNB' | 'LogisticRegression')\n",
    "    @returns:\n",
    "        Sentiment prediction (label) of the input text.\n",
    "    \"\"\"\n",
    "    \n",
    "    # Validate model name\n",
    "    valid_models = ['LinearSVC', 'MultinomialNB', 'LogisticRegression']\n",
    "    if model_name not in valid_models:\n",
    "        raise ValueError(f\"Invalid model_name. Choose from {valid_models}\")\n",
    "    \n",
    "    # Ensure preprocessing function is defined\n",
    "    if 'preprocessing' not in globals():\n",
    "        raise NameError(\"Preprocessing function is not defined.\")\n",
    "    \n",
    "    # Apply text preprocessing (ensure preprocessing is consistent)\n",
    "    sentence = preprocessing(text, ngram=3)\n",
    "\n",
    "    # Model selection and prediction\n",
    "    if model_name == 'LinearSVC':\n",
    "        features = svc_vec.transform([text])\n",
    "        pred = svc_model.predict(features)\n",
    "    elif model_name == 'MultinomialNB':\n",
    "        features = mnb_vec.transform([text])\n",
    "        pred = mnb_model.predict(features)\n",
    "    elif model_name == 'LogisticRegression':\n",
    "        features = lgr_vec.transform([text])\n",
    "        pred = lgr_model.predict(features)\n",
    "    \n",
    "    return pred[0]\n"
   ]
  },
  {
   "cell_type": "code",
   "execution_count": 226,
   "metadata": {},
   "outputs": [],
   "source": [
    "# An example of new review text\n",
    "review_text = 'This book seems to have some decent information, but it is full of typos and factual errors.'"
   ]
  },
  {
   "cell_type": "code",
   "execution_count": 236,
   "metadata": {},
   "outputs": [
    {
     "name": "stdout",
     "output_type": "stream",
     "text": [
      "Variable                      Type                    Data/Info\n",
      "---------------------------------------------------------------\n",
      "C                             float64                 0.9\n",
      "CountVectorizer               type                    <class 'sklearn.feature_e<...>on.text.CountVectorizer'>\n",
      "LinearSVC                     type                    <class 'sklearn.svm._classes.LinearSVC'>\n",
      "LogisticRegression            type                    <class 'sklearn.linear_mo<...>stic.LogisticRegression'>\n",
      "MultinomialNB                 ABCMeta                 <class 'sklearn.naive_bayes.MultinomialNB'>\n",
      "RandomizedSearchCV            ABCMeta                 <class 'sklearn.model_sel<...>arch.RandomizedSearchCV'>\n",
      "TfidfTransformer              type                    <class 'sklearn.feature_e<...>n.text.TfidfTransformer'>\n",
      "TfidfVectorizer               type                    <class 'sklearn.feature_e<...>on.text.TfidfVectorizer'>\n",
      "accuracy                      float                   0.8554351886440045\n",
      "accuracy_score                function                <function accuracy_score at 0x300cd6200>\n",
      "alpha                         float                   1.0\n",
      "best_C                        float64                 0.30000000000000004\n",
      "best_alpha                    float64                 0.5\n",
      "best_alpha_svc                float64                 0.4\n",
      "best_mnb_model                MultinomialNB           MultinomialNB(alpha=0.5)\n",
      "best_model                    LinearSVC               LinearSVC(C=0.30000000000000004)\n",
      "best_n_topwords               float64                 1000000.0\n",
      "best_n_topwords_lgr           int64                   300000\n",
      "best_n_topwords_mnb           int64                   400000\n",
      "best_n_topwords_svc           int64                   1000000\n",
      "best_params                   Series                  topwords    1000000.00000<...>\\nName: 4, dtype: float64\n",
      "data                          list                    n=187390\n",
      "data_list                     list                    n=665331\n",
      "dataframe_columns             function                <function dataframe_columns at 0x160a7e480>\n",
      "dataframe_hash                function                <function dataframe_hash at 0x421aaf740>\n",
      "df                            DataFrame                      pos_neg           <...>[665331 rows x 2 columns]\n",
      "dtypes_str                    function                <function dtypes_str at 0x160a7fce0>\n",
      "fig                           Figure                  Figure(1000x600)\n",
      "file                          TextIOWrapper           <_io.TextIOWrapper name='<...>ode='r' encoding='utf-8'>\n",
      "functools                     module                  <module 'functools' from <...>python3.11/functools.py'>\n",
      "get_dataframes                function                <function get_dataframes at 0x426f1ec00>\n",
      "getpass                       module                  <module 'getpass' from '/<...>b/python3.11/getpass.py'>\n",
      "hashlib                       module                  <module 'hashlib' from '/<...>b/python3.11/hashlib.py'>\n",
      "html                          module                  <module 'html' from '/opt<...>on3.11/html/__init__.py'>\n",
      "i                             int                     9\n",
      "import_pandas_safely          function                <function import_pandas_safely at 0x160a7f7e0>\n",
      "inspect                       module                  <module 'inspect' from '/<...>b/python3.11/inspect.py'>\n",
      "invalidChars                  str                     !\"#$%&'()*+,-./:;<=>?@[\\]^`{|}~\n",
      "is_data_frame                 function                <function is_data_frame at 0x36fbf8d60>\n",
      "json                          module                  <module 'json' from '/opt<...>on3.11/json/__init__.py'>\n",
      "keep_fraction                 float                   0.3\n",
      "labels                        ndarray                 187390: 187390 elems, type `object`, 1499120 bytes (1.4296722412109375 Mb)\n",
      "lemmatizer                    WordNetLemmatizer       <WordNetLemmatizer>\n",
      "lgr_accu                      DataFrame                  topwords  accuracy\\n0 <...>19\\n9   1000000  0.862533\n",
      "lgr_accuarcy                  float                   0.95\n",
      "lgr_model                     str                     MultinomialNB\n",
      "lgr_pred                      ndarray                 37478: 37478 elems, type `object`, 299824 bytes (292.796875 kb)\n",
      "lgr_random_accu               DataFrame                   topwords    C  accura<...>   1500000  0.7  0.868292\n",
      "lgr_random_tfidf_accuracies   list                    n=50\n",
      "lgr_tfidf_accuracies          list                    n=10\n",
      "lgr_vec                       str                     VectorizerObject\n",
      "line                          str                     I don't think this book h<...>rors that I can't ignore.\n",
      "metr                          float                   0.21378756810292843\n",
      "metrics                       module                  <module 'sklearn.metrics'<...>arn/metrics/__init__.py'>\n",
      "mnb_accu                      DataFrame                  topwords  accuracy\\n0 <...>16\\n9   1000000  0.856769\n",
      "mnb_accuarcy                  float                   0.95\n",
      "mnb_model                     MultinomialNB           MultinomialNB()\n",
      "mnb_random_accu               DataFrame                   topwords  alpha  accu<...> 1800000    0.6  0.331565\n",
      "mnb_random_tfidf_accuracies   list                    n=50\n",
      "mnb_tfidf_accuracies          list                    n=10\n",
      "model                         LinearSVC               LinearSVC(dual=False, max_iter=10000)\n",
      "my_utils                      module                  <module 'my_utils' from '<...>loads/kaam2/my_utils.py'>\n",
      "n                             int64                   1000000\n",
      "n_neg                         int                     93695\n",
      "n_pos                         int                     93695\n",
      "neg                           DataFrame                      pos_neg           <...>n[93695 rows x 2 columns]\n",
      "neg_data                      list                    n=93695\n",
      "nltk                          module                  <module 'nltk' from '/opt<...>ckages/nltk/__init__.py'>\n",
      "np                            module                  <module 'numpy' from '/op<...>kages/numpy/__init__.py'>\n",
      "p                             str                     I really like reading Eli<...>ould recommend this book.\n",
      "pad_punct                     dict                    n=32\n",
      "param_dist                    dict                    n=2\n",
      "pd                            module                  <module 'pandas' from '/o<...>ages/pandas/__init__.py'>\n",
      "pickle                        module                  <module 'pickle' from '/o<...>ib/python3.11/pickle.py'>\n",
      "plt                           module                  <module 'matplotlib.pyplo<...>es/matplotlib/pyplot.py'>\n",
      "pos                           DataFrame                      pos_neg           <...>n[93695 rows x 2 columns]\n",
      "pos_data                      list                    n=93695\n",
      "possible_n                    list                    n=10\n",
      "pred                          ndarray                 37478: 37478 elems, type `<U3`, 449736 bytes (439.1953125 kb)\n",
      "predict_new                   function                <function predict_new at 0x426f1ff60>\n",
      "preprocessing                 function                <function preprocessing at 0x36fbfb880>\n",
      "psutil                        module                  <module 'psutil' from '/o<...>ages/psutil/__init__.py'>\n",
      "random                        module                  <module 'random' from '/o<...>ib/python3.11/random.py'>\n",
      "random_search                 RandomizedSearchCV      RandomizedSearchCV(cv=3, <...>               verbose=2)\n",
      "rest_data                     list                    n=74956\n",
      "rest_labels                   ndarray                 74956: 74956 elems, type `object`, 599648 bytes (585.59375 kb)\n",
      "result                        tuple                   n=3\n",
      "review_text                   str                     This book seems to have s<...>typos and factual errors.\n",
      "stopwords                     list                    n=396\n",
      "string                        module                  <module 'string' from '/o<...>ib/python3.11/string.py'>\n",
      "svc_accu                      DataFrame                  topwords  accuracy\\n0 <...>95\\n9   1000000  0.866962\n",
      "svc_accuarcy                  float                   0.95\n",
      "svc_accuracy                  float                   0.95\n",
      "svc_grid_accu                 DataFrame                  topwords    C  accurac<...>   1000000  1.0  0.213788\n",
      "svc_grid_tfidf_accuracies     list                    n=10\n",
      "svc_model                     str                     MultinomialNB\n",
      "svc_pred                      ndarray                 37478: 37478 elems, type `object`, 299824 bytes (292.796875 kb)\n",
      "svc_random_accu               DataFrame                   topwords    C  accura<...>   1000000  0.9  0.556606\n",
      "svc_random_tfidf_accuracies   list                    n=30\n",
      "svc_tfidf_accuracies          list                    n=10\n",
      "svc_vec                       str                     VectorizerObject\n",
      "sw                            WordListCorpusReader    <WordListCorpusReader in <...>_data/corpora/stopwords'>\n",
      "test_data                     list                    n=37478\n",
      "  (0, 29625)\t0.0688428390<...>9984)\t0.06900655593423542\n",
      "test_labels                   ndarray                 37478: 37478 elems, type `object`, 299824 bytes (292.796875 kb)\n",
      "tf_vec                        TfidfVectorizer         TfidfVectorizer()\n",
      "time                          module                  <module 'time' (built-in)>\n",
      "tokens                        list                    n=29083962\n",
      "topwords                      list                    n=1191157\n",
      "train_data                    list                    n=112434\n",
      "  (0, 11373)\t0.0966736489<...>8152)\t0.06804138174397717\n",
      "train_labels                  ndarray                 112434: 112434 elems, type `object`, 899472 bytes (878.390625 kb)\n",
      "train_test_split              function                <function train_test_split at 0x301356700>\n",
      "train_with_n_topwords         function                <function train_with_n_topwords at 0x36fbcc540>\n",
      "trans_punct                   dict                    n=32\n",
      "valid_data                    list                    n=37478\n",
      "valid_labels                  ndarray                 37478: 37478 elems, type `object`, 299824 bytes (292.796875 kb)\n",
      "word_features                 FreqDist                <FreqDist with 4959023 sa<...>es and 29083962 outcomes>\n"
     ]
    }
   ],
   "source": [
    "# Verify if mnb_vec is defined\n",
    "%whos\n"
   ]
  },
  {
   "cell_type": "code",
   "execution_count": null,
   "metadata": {},
   "outputs": [],
   "source": [
    "predict_new(review_text, model_name='LogisticRegression')"
   ]
  },
  {
   "cell_type": "code",
   "execution_count": null,
   "metadata": {},
   "outputs": [],
   "source": [
    "predict_new(review_text, model_name='LinearSVC')"
   ]
  },
  {
   "cell_type": "markdown",
   "metadata": {},
   "source": [
    "<a id='9'></a>\n",
    "## 9. Model Output"
   ]
  },
  {
   "cell_type": "markdown",
   "metadata": {},
   "source": [
    "Use module \"pickle\" to save the model for furture use."
   ]
  },
  {
   "cell_type": "code",
   "execution_count": 250,
   "metadata": {},
   "outputs": [],
   "source": [
    "def predict_new(text, model_name=\"LinearSVC\"):\n",
    "    sentence = preprocessing(text, ngram=3)\n",
    "    if model_name == 'LinearSVC':\n",
    "        features = svc_vec.transform([\"I am happy\"])  #[text]\n",
    "        pred = svc_model.predict(features)\n",
    "    elif model_name == 'MultinomialNB':\n",
    "        features = mnb_vec.transform([text])\n",
    "        pred = mnb_model.predict(features)\n",
    "    elif model_name == 'LogisticRegression':\n",
    "        features = lgr_vec.transform([text])\n",
    "        pred = lgr_model.predict(features)\n",
    "\n",
    "    return pred[0]\n"
   ]
  },
  {
   "cell_type": "code",
   "execution_count": 252,
   "metadata": {},
   "outputs": [
    {
     "ename": "NotFittedError",
     "evalue": "Vocabulary not fitted or provided",
     "output_type": "error",
     "traceback": [
      "\u001b[0;31m---------------------------------------------------------------------------\u001b[0m",
      "\u001b[0;31mNotFittedError\u001b[0m                            Traceback (most recent call last)",
      "Cell \u001b[0;32mIn[252], line 2\u001b[0m\n\u001b[1;32m      1\u001b[0m review_text \u001b[38;5;241m=\u001b[39m \u001b[38;5;124m\"\u001b[39m\u001b[38;5;124mThis book seems to have some decent information, but it is full of typos and factual errors.\u001b[39m\u001b[38;5;124m\"\u001b[39m\n\u001b[0;32m----> 2\u001b[0m \u001b[38;5;28mprint\u001b[39m(predict_new(review_text, model_name\u001b[38;5;241m=\u001b[39m\u001b[38;5;124m'\u001b[39m\u001b[38;5;124mMultinomialNB\u001b[39m\u001b[38;5;124m'\u001b[39m))\n\u001b[1;32m      3\u001b[0m \u001b[38;5;28mprint\u001b[39m(predict_new(review_text, model_name\u001b[38;5;241m=\u001b[39m\u001b[38;5;124m'\u001b[39m\u001b[38;5;124mLogisticRegression\u001b[39m\u001b[38;5;124m'\u001b[39m))\n\u001b[1;32m      4\u001b[0m \u001b[38;5;28mprint\u001b[39m(predict_new(review_text, model_name\u001b[38;5;241m=\u001b[39m\u001b[38;5;124m'\u001b[39m\u001b[38;5;124mLinearSVC\u001b[39m\u001b[38;5;124m'\u001b[39m))\n",
      "Cell \u001b[0;32mIn[250], line 7\u001b[0m, in \u001b[0;36mpredict_new\u001b[0;34m(text, model_name)\u001b[0m\n\u001b[1;32m      5\u001b[0m     pred \u001b[38;5;241m=\u001b[39m svc_model\u001b[38;5;241m.\u001b[39mpredict(features)\n\u001b[1;32m      6\u001b[0m \u001b[38;5;28;01melif\u001b[39;00m model_name \u001b[38;5;241m==\u001b[39m \u001b[38;5;124m'\u001b[39m\u001b[38;5;124mMultinomialNB\u001b[39m\u001b[38;5;124m'\u001b[39m:\n\u001b[0;32m----> 7\u001b[0m     features \u001b[38;5;241m=\u001b[39m mnb_vec\u001b[38;5;241m.\u001b[39mtransform([text])\n\u001b[1;32m      8\u001b[0m     pred \u001b[38;5;241m=\u001b[39m mnb_model\u001b[38;5;241m.\u001b[39mpredict(features)\n\u001b[1;32m      9\u001b[0m \u001b[38;5;28;01melif\u001b[39;00m model_name \u001b[38;5;241m==\u001b[39m \u001b[38;5;124m'\u001b[39m\u001b[38;5;124mLogisticRegression\u001b[39m\u001b[38;5;124m'\u001b[39m:\n",
      "File \u001b[0;32m/opt/homebrew/anaconda3/lib/python3.11/site-packages/sklearn/feature_extraction/text.py:1418\u001b[0m, in \u001b[0;36mCountVectorizer.transform\u001b[0;34m(self, raw_documents)\u001b[0m\n\u001b[1;32m   1414\u001b[0m \u001b[38;5;28;01mif\u001b[39;00m \u001b[38;5;28misinstance\u001b[39m(raw_documents, \u001b[38;5;28mstr\u001b[39m):\n\u001b[1;32m   1415\u001b[0m     \u001b[38;5;28;01mraise\u001b[39;00m \u001b[38;5;167;01mValueError\u001b[39;00m(\n\u001b[1;32m   1416\u001b[0m         \u001b[38;5;124m\"\u001b[39m\u001b[38;5;124mIterable over raw text documents expected, string object received.\u001b[39m\u001b[38;5;124m\"\u001b[39m\n\u001b[1;32m   1417\u001b[0m     )\n\u001b[0;32m-> 1418\u001b[0m \u001b[38;5;28mself\u001b[39m\u001b[38;5;241m.\u001b[39m_check_vocabulary()\n\u001b[1;32m   1420\u001b[0m \u001b[38;5;66;03m# use the same matrix-building strategy as fit_transform\u001b[39;00m\n\u001b[1;32m   1421\u001b[0m _, X \u001b[38;5;241m=\u001b[39m \u001b[38;5;28mself\u001b[39m\u001b[38;5;241m.\u001b[39m_count_vocab(raw_documents, fixed_vocab\u001b[38;5;241m=\u001b[39m\u001b[38;5;28;01mTrue\u001b[39;00m)\n",
      "File \u001b[0;32m/opt/homebrew/anaconda3/lib/python3.11/site-packages/sklearn/feature_extraction/text.py:501\u001b[0m, in \u001b[0;36m_VectorizerMixin._check_vocabulary\u001b[0;34m(self)\u001b[0m\n\u001b[1;32m    499\u001b[0m     \u001b[38;5;28mself\u001b[39m\u001b[38;5;241m.\u001b[39m_validate_vocabulary()\n\u001b[1;32m    500\u001b[0m     \u001b[38;5;28;01mif\u001b[39;00m \u001b[38;5;129;01mnot\u001b[39;00m \u001b[38;5;28mself\u001b[39m\u001b[38;5;241m.\u001b[39mfixed_vocabulary_:\n\u001b[0;32m--> 501\u001b[0m         \u001b[38;5;28;01mraise\u001b[39;00m NotFittedError(\u001b[38;5;124m\"\u001b[39m\u001b[38;5;124mVocabulary not fitted or provided\u001b[39m\u001b[38;5;124m\"\u001b[39m)\n\u001b[1;32m    503\u001b[0m \u001b[38;5;28;01mif\u001b[39;00m \u001b[38;5;28mlen\u001b[39m(\u001b[38;5;28mself\u001b[39m\u001b[38;5;241m.\u001b[39mvocabulary_) \u001b[38;5;241m==\u001b[39m \u001b[38;5;241m0\u001b[39m:\n\u001b[1;32m    504\u001b[0m     \u001b[38;5;28;01mraise\u001b[39;00m \u001b[38;5;167;01mValueError\u001b[39;00m(\u001b[38;5;124m\"\u001b[39m\u001b[38;5;124mVocabulary is empty\u001b[39m\u001b[38;5;124m\"\u001b[39m)\n",
      "\u001b[0;31mNotFittedError\u001b[0m: Vocabulary not fitted or provided"
     ]
    }
   ],
   "source": [
    "review_text = \"This book seems to have some decent information, but it is full of typos and factual errors.\"\n",
    "print(predict_new(review_text, model_name='MultinomialNB'))\n",
    "print(predict_new(review_text, model_name='LogisticRegression'))\n",
    "print(predict_new(review_text, model_name='LinearSVC'))\n"
   ]
  }
 ],
 "metadata": {
  "celltoolbar": "Raw Cell Format",
  "kernelspec": {
   "display_name": "Python 3 (ipykernel)",
   "language": "python",
   "name": "python3"
  },
  "language_info": {
   "codemirror_mode": {
    "name": "ipython",
    "version": 3
   },
   "file_extension": ".py",
   "mimetype": "text/x-python",
   "name": "python",
   "nbconvert_exporter": "python",
   "pygments_lexer": "ipython3",
   "version": "3.11.5"
  }
 },
 "nbformat": 4,
 "nbformat_minor": 4
}
